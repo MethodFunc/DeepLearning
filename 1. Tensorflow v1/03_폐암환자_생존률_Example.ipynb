{
 "cells": [
  {
   "cell_type": "code",
   "execution_count": 24,
   "metadata": {},
   "outputs": [],
   "source": [
    "import os\n",
    "os.environ[\"KERAS_BACKEND\"] = \"plaidml.keras.backend\""
   ]
  },
  {
   "cell_type": "code",
   "execution_count": 25,
   "metadata": {},
   "outputs": [
    {
     "data": {
      "text/plain": [
       "'2.1.0'"
      ]
     },
     "execution_count": 25,
     "metadata": {},
     "output_type": "execute_result"
    }
   ],
   "source": [
    "import numpy as np\n",
    "import tensorflow as tf\n",
    "tf.__version__"
   ]
  },
  {
   "cell_type": "code",
   "execution_count": 26,
   "metadata": {},
   "outputs": [],
   "source": [
    "from tensorflow.keras.models import Sequential\n",
    "from tensorflow.keras.layers import Dense, Flatten"
   ]
  },
  {
   "cell_type": "code",
   "execution_count": 27,
   "metadata": {},
   "outputs": [],
   "source": [
    "seed = 2020\n",
    "np.random.seed(seed)\n",
    "tf.random.set_seed(seed)"
   ]
  },
  {
   "cell_type": "code",
   "execution_count": 28,
   "metadata": {},
   "outputs": [
    {
     "name": "stdout",
     "output_type": "stream",
     "text": [
      "[[293.     1.     3.8    2.8    0.     0.     0.     0.     0.     0.\n",
      "   12.     0.     0.     0.     1.     0.    62.     0.  ]\n",
      " [  1.     2.     2.88   2.16   1.     0.     0.     0.     1.     1.\n",
      "   14.     0.     0.     0.     1.     0.    60.     0.  ]\n",
      " [  8.     2.     3.19   2.5    1.     0.     0.     0.     1.     0.\n",
      "   11.     0.     0.     1.     1.     0.    66.     1.  ]]\n"
     ]
    }
   ],
   "source": [
    "data_set = np.loadtxt('../dataset/ThoraricSurgery.csv', delimiter=',')\n",
    "print(data_set[:3, :])"
   ]
  },
  {
   "cell_type": "code",
   "execution_count": 29,
   "metadata": {},
   "outputs": [],
   "source": [
    "X_train = data_set[:, 0:17]\n",
    "y_train = data_set[:, 17]"
   ]
  },
  {
   "cell_type": "code",
   "execution_count": 40,
   "metadata": {},
   "outputs": [],
   "source": [
    "model = Sequential([\n",
    "    Flatten(input_shape=[17, ]),\n",
    "    Dense(30, activation='relu'),\n",
    "    Dense(1, activation='sigmoid')\n",
    "])"
   ]
  },
  {
   "cell_type": "code",
   "execution_count": 41,
   "metadata": {},
   "outputs": [
    {
     "name": "stdout",
     "output_type": "stream",
     "text": [
      "Model: \"sequential_6\"\n",
      "_________________________________________________________________\n",
      "Layer (type)                 Output Shape              Param #   \n",
      "=================================================================\n",
      "flatten_3 (Flatten)          (None, 17)                0         \n",
      "_________________________________________________________________\n",
      "dense_12 (Dense)             (None, 30)                540       \n",
      "_________________________________________________________________\n",
      "dense_13 (Dense)             (None, 1)                 31        \n",
      "=================================================================\n",
      "Total params: 571\n",
      "Trainable params: 571\n",
      "Non-trainable params: 0\n",
      "_________________________________________________________________\n"
     ]
    }
   ],
   "source": [
    "model.summary()"
   ]
  },
  {
   "cell_type": "code",
   "execution_count": 42,
   "metadata": {},
   "outputs": [],
   "source": [
    "model.compile(loss ='binary_crossentropy', optimizer = 'adam', metrics=['accuracy'])"
   ]
  },
  {
   "cell_type": "code",
   "execution_count": 43,
   "metadata": {
    "scrolled": false
   },
   "outputs": [
    {
     "name": "stdout",
     "output_type": "stream",
     "text": [
      "Train on 470 samples\n",
      "Epoch 1/20\n",
      "470/470 [==============================] - 0s 556us/sample - loss: 24.8918 - accuracy: 0.1830\n",
      "Epoch 2/20\n",
      "470/470 [==============================] - 0s 77us/sample - loss: 1.4923 - accuracy: 0.7681\n",
      "Epoch 3/20\n",
      "470/470 [==============================] - 0s 76us/sample - loss: 0.8335 - accuracy: 0.7660\n",
      "Epoch 4/20\n",
      "470/470 [==============================] - 0s 76us/sample - loss: 0.6853 - accuracy: 0.8064\n",
      "Epoch 5/20\n",
      "470/470 [==============================] - 0s 82us/sample - loss: 0.5544 - accuracy: 0.8064\n",
      "Epoch 6/20\n",
      "470/470 [==============================] - 0s 78us/sample - loss: 0.4955 - accuracy: 0.8340\n",
      "Epoch 7/20\n",
      "470/470 [==============================] - 0s 76us/sample - loss: 0.5084 - accuracy: 0.8277\n",
      "Epoch 8/20\n",
      "470/470 [==============================] - 0s 78us/sample - loss: 0.4675 - accuracy: 0.8468\n",
      "Epoch 9/20\n",
      "470/470 [==============================] - 0s 81us/sample - loss: 0.4515 - accuracy: 0.8489\n",
      "Epoch 10/20\n",
      "470/470 [==============================] - 0s 76us/sample - loss: 0.4610 - accuracy: 0.8489\n",
      "Epoch 11/20\n",
      "470/470 [==============================] - 0s 74us/sample - loss: 0.4653 - accuracy: 0.8447\n",
      "Epoch 12/20\n",
      "470/470 [==============================] - 0s 81us/sample - loss: 0.4676 - accuracy: 0.8511\n",
      "Epoch 13/20\n",
      "470/470 [==============================] - 0s 84us/sample - loss: 0.4329 - accuracy: 0.8489\n",
      "Epoch 14/20\n",
      "470/470 [==============================] - 0s 75us/sample - loss: 0.4424 - accuracy: 0.8383\n",
      "Epoch 15/20\n",
      "470/470 [==============================] - 0s 66us/sample - loss: 0.4362 - accuracy: 0.8489\n",
      "Epoch 16/20\n",
      "470/470 [==============================] - 0s 79us/sample - loss: 0.4500 - accuracy: 0.8468\n",
      "Epoch 17/20\n",
      "470/470 [==============================] - 0s 82us/sample - loss: 0.4318 - accuracy: 0.8468\n",
      "Epoch 18/20\n",
      "470/470 [==============================] - 0s 78us/sample - loss: 0.4261 - accuracy: 0.8532\n",
      "Epoch 19/20\n",
      "470/470 [==============================] - 0s 82us/sample - loss: 0.4688 - accuracy: 0.8511\n",
      "Epoch 20/20\n",
      "470/470 [==============================] - 0s 81us/sample - loss: 0.4245 - accuracy: 0.8511\n"
     ]
    }
   ],
   "source": [
    "# batch_size == 한번에 읽어들이는 갯수\n",
    "history = model.fit(X_train, y_train, epochs=20, batch_size=10)"
   ]
  },
  {
   "cell_type": "code",
   "execution_count": 44,
   "metadata": {},
   "outputs": [
    {
     "name": "stdout",
     "output_type": "stream",
     "text": [
      "470/470 - 0s - loss: 0.4037 - accuracy: 0.8532\n"
     ]
    },
    {
     "data": {
      "text/plain": [
       "0.8531915"
      ]
     },
     "execution_count": 44,
     "metadata": {},
     "output_type": "execute_result"
    }
   ],
   "source": [
    "model.evaluate(X_train, y_train, verbose=2)[1]"
   ]
  },
  {
   "cell_type": "code",
   "execution_count": null,
   "metadata": {},
   "outputs": [],
   "source": []
  }
 ],
 "metadata": {
  "kernelspec": {
   "display_name": "Python 3",
   "language": "python",
   "name": "python3"
  },
  "language_info": {
   "codemirror_mode": {
    "name": "ipython",
    "version": 3
   },
   "file_extension": ".py",
   "mimetype": "text/x-python",
   "name": "python",
   "nbconvert_exporter": "python",
   "pygments_lexer": "ipython3",
   "version": "3.7.7"
  }
 },
 "nbformat": 4,
 "nbformat_minor": 4
}
