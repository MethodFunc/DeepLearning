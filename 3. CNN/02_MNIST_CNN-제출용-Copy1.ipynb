{
 "cells": [
  {
   "cell_type": "code",
   "execution_count": 1,
   "metadata": {},
   "outputs": [],
   "source": [
    "import tensorflow as tf\n",
    "import pandas as pd\n",
    "import numpy as np\n",
    "import matplotlib.pyplot as plt\n",
    "import os\n",
    "import sys"
   ]
  },
  {
   "cell_type": "code",
   "execution_count": 2,
   "metadata": {},
   "outputs": [],
   "source": [
    "from tensorflow import keras\n",
    "from tensorflow.keras.datasets import mnist\n",
    "from tensorflow.keras.models import Sequential, load_model\n",
    "from tensorflow.keras.layers import Dense, Dropout, Flatten, Conv2D, MaxPooling2D\n",
    "from tensorflow.keras.callbacks import ModelCheckpoint, EarlyStopping"
   ]
  },
  {
   "cell_type": "code",
   "execution_count": 3,
   "metadata": {},
   "outputs": [],
   "source": [
    "seed =2020\n",
    "np.random.seed(seed)\n",
    "tf.random.set_seed(seed)"
   ]
  },
  {
   "cell_type": "code",
   "execution_count": 4,
   "metadata": {},
   "outputs": [],
   "source": [
    "(x_train, y_train), (x_test, y_test) = mnist.load_data()"
   ]
  },
  {
   "cell_type": "code",
   "execution_count": 5,
   "metadata": {},
   "outputs": [
    {
     "data": {
      "text/plain": [
       "(60000, 28, 28)"
      ]
     },
     "execution_count": 5,
     "metadata": {},
     "output_type": "execute_result"
    }
   ],
   "source": [
    "x_train.shape"
   ]
  },
  {
   "cell_type": "code",
   "execution_count": 6,
   "metadata": {},
   "outputs": [],
   "source": [
    "x_train = x_train.reshape(-1, 28, 28, 1).astype('float32') / 255\n",
    "x_test = x_test.reshape(-1, 28, 28, 1).astype('float32') / 255\n",
    "y_train = tf.keras.utils.to_categorical(y_train)\n",
    "y_test = tf.keras.utils.to_categorical(y_test)"
   ]
  },
  {
   "cell_type": "code",
   "execution_count": 7,
   "metadata": {},
   "outputs": [],
   "source": [
    "model = Sequential([\n",
    "    Conv2D(128, kernel_size=(2, 2), input_shape=(28, 28, 1), activation='relu'),\n",
    "    Conv2D(64, (2, 2), activation='relu'),\n",
    "    MaxPooling2D(pool_size=2),\n",
    "    Dropout(0.3),\n",
    "    MaxPooling2D(pool_size=2),\n",
    "    Dropout(0.3),\n",
    "    Flatten(),\n",
    "    \n",
    "    Dense(64, activation='relu'),\n",
    "    Dropout(0.5),\n",
    "    Dense(10, activation='softmax')\n",
    "])"
   ]
  },
  {
   "cell_type": "code",
   "execution_count": 8,
   "metadata": {},
   "outputs": [
    {
     "name": "stdout",
     "output_type": "stream",
     "text": [
      "Model: \"sequential\"\n",
      "_________________________________________________________________\n",
      "Layer (type)                 Output Shape              Param #   \n",
      "=================================================================\n",
      "conv2d (Conv2D)              (None, 27, 27, 128)       640       \n",
      "_________________________________________________________________\n",
      "conv2d_1 (Conv2D)            (None, 26, 26, 64)        32832     \n",
      "_________________________________________________________________\n",
      "max_pooling2d (MaxPooling2D) (None, 13, 13, 64)        0         \n",
      "_________________________________________________________________\n",
      "dropout (Dropout)            (None, 13, 13, 64)        0         \n",
      "_________________________________________________________________\n",
      "max_pooling2d_1 (MaxPooling2 (None, 6, 6, 64)          0         \n",
      "_________________________________________________________________\n",
      "dropout_1 (Dropout)          (None, 6, 6, 64)          0         \n",
      "_________________________________________________________________\n",
      "flatten (Flatten)            (None, 2304)              0         \n",
      "_________________________________________________________________\n",
      "dense (Dense)                (None, 64)                147520    \n",
      "_________________________________________________________________\n",
      "dropout_2 (Dropout)          (None, 64)                0         \n",
      "_________________________________________________________________\n",
      "dense_1 (Dense)              (None, 10)                650       \n",
      "=================================================================\n",
      "Total params: 181,642\n",
      "Trainable params: 181,642\n",
      "Non-trainable params: 0\n",
      "_________________________________________________________________\n"
     ]
    }
   ],
   "source": [
    "model.summary()"
   ]
  },
  {
   "cell_type": "code",
   "execution_count": 9,
   "metadata": {},
   "outputs": [],
   "source": [
    "model.compile(loss=keras.losses.categorical_crossentropy,\n",
    "              optimizer = keras.optimizers.Adam(),\n",
    "              metrics =[keras.metrics.categorical_accuracy] )"
   ]
  },
  {
   "cell_type": "code",
   "execution_count": 10,
   "metadata": {},
   "outputs": [],
   "source": [
    "MODEL_DIR = '../model/'\n",
    "if not os.path.exists(MODEL_DIR):\n",
    "    os.mkdir(MODEL_DIR)"
   ]
  },
  {
   "cell_type": "code",
   "execution_count": 11,
   "metadata": {},
   "outputs": [],
   "source": [
    "modelpath = MODEL_DIR + 'mnist-cnn-{epoch:02d}-{val_loss:.4f}.hdf5'\n",
    "chekpointer = ModelCheckpoint(modelpath, verbose=1, save_best_only=True)\n",
    "early_stopping_cb = EarlyStopping(patience=10)"
   ]
  },
  {
   "cell_type": "code",
   "execution_count": 12,
   "metadata": {},
   "outputs": [
    {
     "name": "stdout",
     "output_type": "stream",
     "text": [
      "Train on 48000 samples, validate on 12000 samples\n",
      "Epoch 1/30\n",
      "47800/48000 [============================>.] - ETA: 0s - loss: 0.5660 - categorical_accuracy: 0.8198\n",
      "Epoch 00001: val_loss improved from inf to 0.14740, saving model to ../model/mnist-cnn-01-0.1474.hdf5\n",
      "48000/48000 [==============================] - 69s 1ms/sample - loss: 0.5650 - categorical_accuracy: 0.8202 - val_loss: 0.1474 - val_categorical_accuracy: 0.9653\n",
      "Epoch 2/30\n",
      "47800/48000 [============================>.] - ETA: 0s - loss: 0.2276 - categorical_accuracy: 0.9321\n",
      "Epoch 00002: val_loss improved from 0.14740 to 0.09695, saving model to ../model/mnist-cnn-02-0.0969.hdf5\n",
      "48000/48000 [==============================] - 68s 1ms/sample - loss: 0.2275 - categorical_accuracy: 0.9322 - val_loss: 0.0969 - val_categorical_accuracy: 0.9746\n",
      "Epoch 3/30\n",
      "47800/48000 [============================>.] - ETA: 0s - loss: 0.1745 - categorical_accuracy: 0.9477\n",
      "Epoch 00003: val_loss improved from 0.09695 to 0.07111, saving model to ../model/mnist-cnn-03-0.0711.hdf5\n",
      "48000/48000 [==============================] - 68s 1ms/sample - loss: 0.1746 - categorical_accuracy: 0.9477 - val_loss: 0.0711 - val_categorical_accuracy: 0.9811\n",
      "Epoch 4/30\n",
      "47800/48000 [============================>.] - ETA: 0s - loss: 0.1536 - categorical_accuracy: 0.9546\n",
      "Epoch 00004: val_loss improved from 0.07111 to 0.06447, saving model to ../model/mnist-cnn-04-0.0645.hdf5\n",
      "48000/48000 [==============================] - 70s 1ms/sample - loss: 0.1536 - categorical_accuracy: 0.9546 - val_loss: 0.0645 - val_categorical_accuracy: 0.9824\n",
      "Epoch 5/30\n",
      "47800/48000 [============================>.] - ETA: 0s - loss: 0.1387 - categorical_accuracy: 0.9586\n",
      "Epoch 00005: val_loss improved from 0.06447 to 0.06003, saving model to ../model/mnist-cnn-05-0.0600.hdf5\n",
      "48000/48000 [==============================] - 68s 1ms/sample - loss: 0.1386 - categorical_accuracy: 0.9586 - val_loss: 0.0600 - val_categorical_accuracy: 0.9825\n",
      "Epoch 6/30\n",
      "47800/48000 [============================>.] - ETA: 0s - loss: 0.1284 - categorical_accuracy: 0.9615\n",
      "Epoch 00006: val_loss improved from 0.06003 to 0.05474, saving model to ../model/mnist-cnn-06-0.0547.hdf5\n",
      "48000/48000 [==============================] - 67s 1ms/sample - loss: 0.1286 - categorical_accuracy: 0.9614 - val_loss: 0.0547 - val_categorical_accuracy: 0.9842\n",
      "Epoch 7/30\n",
      "47800/48000 [============================>.] - ETA: 0s - loss: 0.1188 - categorical_accuracy: 0.9641\n",
      "Epoch 00007: val_loss improved from 0.05474 to 0.05333, saving model to ../model/mnist-cnn-07-0.0533.hdf5\n",
      "48000/48000 [==============================] - 68s 1ms/sample - loss: 0.1186 - categorical_accuracy: 0.9641 - val_loss: 0.0533 - val_categorical_accuracy: 0.9844\n",
      "Epoch 8/30\n",
      "47800/48000 [============================>.] - ETA: 0s - loss: 0.1107 - categorical_accuracy: 0.9663\n",
      "Epoch 00008: val_loss improved from 0.05333 to 0.04937, saving model to ../model/mnist-cnn-08-0.0494.hdf5\n",
      "48000/48000 [==============================] - 69s 1ms/sample - loss: 0.1109 - categorical_accuracy: 0.9662 - val_loss: 0.0494 - val_categorical_accuracy: 0.9851\n",
      "Epoch 9/30\n",
      "47800/48000 [============================>.] - ETA: 0s - loss: 0.1059 - categorical_accuracy: 0.9681\n",
      "Epoch 00009: val_loss improved from 0.04937 to 0.04688, saving model to ../model/mnist-cnn-09-0.0469.hdf5\n",
      "48000/48000 [==============================] - 67s 1ms/sample - loss: 0.1057 - categorical_accuracy: 0.9681 - val_loss: 0.0469 - val_categorical_accuracy: 0.9858\n",
      "Epoch 10/30\n",
      "47800/48000 [============================>.] - ETA: 0s - loss: 0.0983 - categorical_accuracy: 0.9704\n",
      "Epoch 00010: val_loss improved from 0.04688 to 0.04448, saving model to ../model/mnist-cnn-10-0.0445.hdf5\n",
      "48000/48000 [==============================] - 67s 1ms/sample - loss: 0.0985 - categorical_accuracy: 0.9702 - val_loss: 0.0445 - val_categorical_accuracy: 0.9866\n",
      "Epoch 11/30\n",
      "47800/48000 [============================>.] - ETA: 0s - loss: 0.0955 - categorical_accuracy: 0.9713\n",
      "Epoch 00011: val_loss improved from 0.04448 to 0.04195, saving model to ../model/mnist-cnn-11-0.0420.hdf5\n",
      "48000/48000 [==============================] - 67s 1ms/sample - loss: 0.0957 - categorical_accuracy: 0.9712 - val_loss: 0.0420 - val_categorical_accuracy: 0.9881\n",
      "Epoch 12/30\n",
      "47800/48000 [============================>.] - ETA: 0s - loss: 0.0956 - categorical_accuracy: 0.9706\n",
      "Epoch 00012: val_loss did not improve from 0.04195\n",
      "48000/48000 [==============================] - 67s 1ms/sample - loss: 0.0954 - categorical_accuracy: 0.9707 - val_loss: 0.0423 - val_categorical_accuracy: 0.9875\n",
      "Epoch 13/30\n",
      "47800/48000 [============================>.] - ETA: 0s - loss: 0.0898 - categorical_accuracy: 0.9730\n",
      "Epoch 00013: val_loss did not improve from 0.04195\n",
      "48000/48000 [==============================] - 67s 1ms/sample - loss: 0.0900 - categorical_accuracy: 0.9729 - val_loss: 0.0451 - val_categorical_accuracy: 0.9868\n",
      "Epoch 14/30\n",
      "47800/48000 [============================>.] - ETA: 0s - loss: 0.0885 - categorical_accuracy: 0.9727\n",
      "Epoch 00014: val_loss improved from 0.04195 to 0.04002, saving model to ../model/mnist-cnn-14-0.0400.hdf5\n",
      "48000/48000 [==============================] - 67s 1ms/sample - loss: 0.0883 - categorical_accuracy: 0.9727 - val_loss: 0.0400 - val_categorical_accuracy: 0.9883\n",
      "Epoch 15/30\n",
      "47800/48000 [============================>.] - ETA: 0s - loss: 0.0896 - categorical_accuracy: 0.9737\n",
      "Epoch 00015: val_loss improved from 0.04002 to 0.03885, saving model to ../model/mnist-cnn-15-0.0389.hdf5\n",
      "48000/48000 [==============================] - 67s 1ms/sample - loss: 0.0895 - categorical_accuracy: 0.9737 - val_loss: 0.0389 - val_categorical_accuracy: 0.9898\n",
      "Epoch 16/30\n",
      "47800/48000 [============================>.] - ETA: 0s - loss: 0.0840 - categorical_accuracy: 0.9750\n",
      "Epoch 00016: val_loss improved from 0.03885 to 0.03876, saving model to ../model/mnist-cnn-16-0.0388.hdf5\n",
      "48000/48000 [==============================] - 69s 1ms/sample - loss: 0.0840 - categorical_accuracy: 0.9749 - val_loss: 0.0388 - val_categorical_accuracy: 0.9886\n",
      "Epoch 17/30\n",
      "47800/48000 [============================>.] - ETA: 0s - loss: 0.0828 - categorical_accuracy: 0.9740\n",
      "Epoch 00017: val_loss did not improve from 0.03876\n",
      "48000/48000 [==============================] - 68s 1ms/sample - loss: 0.0826 - categorical_accuracy: 0.9740 - val_loss: 0.0397 - val_categorical_accuracy: 0.9879\n",
      "Epoch 18/30\n",
      "47800/48000 [============================>.] - ETA: 0s - loss: 0.0793 - categorical_accuracy: 0.9753\n",
      "Epoch 00018: val_loss improved from 0.03876 to 0.03730, saving model to ../model/mnist-cnn-18-0.0373.hdf5\n",
      "48000/48000 [==============================] - 68s 1ms/sample - loss: 0.0792 - categorical_accuracy: 0.9753 - val_loss: 0.0373 - val_categorical_accuracy: 0.9891\n",
      "Epoch 19/30\n",
      "47800/48000 [============================>.] - ETA: 0s - loss: 0.0771 - categorical_accuracy: 0.9754\n",
      "Epoch 00019: val_loss did not improve from 0.03730\n",
      "48000/48000 [==============================] - 69s 1ms/sample - loss: 0.0771 - categorical_accuracy: 0.9754 - val_loss: 0.0400 - val_categorical_accuracy: 0.9883\n",
      "Epoch 20/30\n",
      "47800/48000 [============================>.] - ETA: 0s - loss: 0.0771 - categorical_accuracy: 0.9758\n",
      "Epoch 00020: val_loss did not improve from 0.03730\n",
      "48000/48000 [==============================] - 70s 1ms/sample - loss: 0.0771 - categorical_accuracy: 0.9758 - val_loss: 0.0374 - val_categorical_accuracy: 0.9890\n",
      "Epoch 21/30\n",
      "47800/48000 [============================>.] - ETA: 0s - loss: 0.0760 - categorical_accuracy: 0.9758\n",
      "Epoch 00021: val_loss did not improve from 0.03730\n",
      "48000/48000 [==============================] - 68s 1ms/sample - loss: 0.0760 - categorical_accuracy: 0.9758 - val_loss: 0.0379 - val_categorical_accuracy: 0.9887\n",
      "Epoch 22/30\n",
      "47800/48000 [============================>.] - ETA: 0s - loss: 0.0761 - categorical_accuracy: 0.9771\n",
      "Epoch 00022: val_loss did not improve from 0.03730\n",
      "48000/48000 [==============================] - 68s 1ms/sample - loss: 0.0764 - categorical_accuracy: 0.9770 - val_loss: 0.0385 - val_categorical_accuracy: 0.9895\n",
      "Epoch 23/30\n",
      "47800/48000 [============================>.] - ETA: 0s - loss: 0.0762 - categorical_accuracy: 0.9753\n",
      "Epoch 00023: val_loss improved from 0.03730 to 0.03707, saving model to ../model/mnist-cnn-23-0.0371.hdf5\n",
      "48000/48000 [==============================] - 68s 1ms/sample - loss: 0.0762 - categorical_accuracy: 0.9753 - val_loss: 0.0371 - val_categorical_accuracy: 0.9895\n",
      "Epoch 24/30\n",
      "47800/48000 [============================>.] - ETA: 0s - loss: 0.0726 - categorical_accuracy: 0.9770\n",
      "Epoch 00024: val_loss did not improve from 0.03707\n",
      "48000/48000 [==============================] - 71s 1ms/sample - loss: 0.0727 - categorical_accuracy: 0.9769 - val_loss: 0.0418 - val_categorical_accuracy: 0.9882\n",
      "Epoch 25/30\n",
      "47800/48000 [============================>.] - ETA: 0s - loss: 0.0723 - categorical_accuracy: 0.9778\n",
      "Epoch 00025: val_loss did not improve from 0.03707\n",
      "48000/48000 [==============================] - 71s 1ms/sample - loss: 0.0726 - categorical_accuracy: 0.9778 - val_loss: 0.0384 - val_categorical_accuracy: 0.9888\n",
      "Epoch 26/30\n",
      "47800/48000 [============================>.] - ETA: 0s - loss: 0.0716 - categorical_accuracy: 0.9776\n",
      "Epoch 00026: val_loss improved from 0.03707 to 0.03414, saving model to ../model/mnist-cnn-26-0.0341.hdf5\n",
      "48000/48000 [==============================] - 71s 1ms/sample - loss: 0.0714 - categorical_accuracy: 0.9776 - val_loss: 0.0341 - val_categorical_accuracy: 0.9901\n",
      "Epoch 27/30\n",
      "47800/48000 [============================>.] - ETA: 0s - loss: 0.0686 - categorical_accuracy: 0.9783\n",
      "Epoch 00027: val_loss did not improve from 0.03414\n",
      "48000/48000 [==============================] - 69s 1ms/sample - loss: 0.0685 - categorical_accuracy: 0.9784 - val_loss: 0.0355 - val_categorical_accuracy: 0.9903\n",
      "Epoch 28/30\n",
      "47800/48000 [============================>.] - ETA: 0s - loss: 0.0687 - categorical_accuracy: 0.9788\n",
      "Epoch 00028: val_loss did not improve from 0.03414\n",
      "48000/48000 [==============================] - 69s 1ms/sample - loss: 0.0686 - categorical_accuracy: 0.9789 - val_loss: 0.0365 - val_categorical_accuracy: 0.9903\n",
      "Epoch 29/30\n",
      "47800/48000 [============================>.] - ETA: 0s - loss: 0.0645 - categorical_accuracy: 0.9789\n",
      "Epoch 00029: val_loss did not improve from 0.03414\n",
      "48000/48000 [==============================] - 68s 1ms/sample - loss: 0.0646 - categorical_accuracy: 0.9789 - val_loss: 0.0350 - val_categorical_accuracy: 0.9902\n",
      "Epoch 30/30\n",
      "47800/48000 [============================>.] - ETA: 0s - loss: 0.0648 - categorical_accuracy: 0.9799\n",
      "Epoch 00030: val_loss did not improve from 0.03414\n",
      "48000/48000 [==============================] - 69s 1ms/sample - loss: 0.0652 - categorical_accuracy: 0.9797 - val_loss: 0.0347 - val_categorical_accuracy: 0.9898\n"
     ]
    }
   ],
   "source": [
    "history = model.fit(x_train, y_train, validation_split=0.2, epochs=30, batch_size=200, callbacks=[chekpointer, early_stopping_cb])"
   ]
  },
  {
   "cell_type": "code",
   "execution_count": 17,
   "metadata": {},
   "outputs": [],
   "source": [
    "del model\n",
    "model = load_model('../model/mnist-cnn-26-0.0341.hdf5')"
   ]
  },
  {
   "cell_type": "code",
   "execution_count": 18,
   "metadata": {},
   "outputs": [
    {
     "data": {
      "text/plain": [
       "0.9898"
      ]
     },
     "execution_count": 18,
     "metadata": {},
     "output_type": "execute_result"
    }
   ],
   "source": [
    "model.evaluate(x_test, y_test, verbose=4)[1]"
   ]
  },
  {
   "cell_type": "code",
   "execution_count": 19,
   "metadata": {},
   "outputs": [],
   "source": [
    "y_vloss = history.history['val_loss']\n",
    "y_loss = history.history['loss']"
   ]
  },
  {
   "cell_type": "code",
   "execution_count": 20,
   "metadata": {},
   "outputs": [
    {
     "data": {
      "image/png": "[encoded data removed]",
      "text/plain": [
       "<Figure size 576x432 with 1 Axes>"
      ]
     },
     "metadata": {
      "needs_background": "light"
     },
     "output_type": "display_data"
    }
   ],
   "source": [
    "# 그래프로 표현\n",
    "x_len = np.arange(1, len(y_loss)+1)\n",
    "plt.figure(figsize=(8,6))\n",
    "plt.plot(x_len, y_vloss, marker='.', c=\"red\", label='Testset_loss')\n",
    "plt.plot(x_len, y_loss, marker='.', c=\"blue\", label='Trainset_loss')\n",
    "\n",
    "# 그래프에 그리드를 주고 레이블을 표시\n",
    "plt.legend(loc='upper right')\n",
    "# plt.axis([0, 20, 0, 0.35])\n",
    "plt.grid()\n",
    "plt.xlabel('epoch')\n",
    "plt.ylabel('loss')\n",
    "plt.show()"
   ]
  },
  {
   "cell_type": "code",
   "execution_count": null,
   "metadata": {},
   "outputs": [],
   "source": []
  }
 ],
 "metadata": {
  "kernelspec": {
   "display_name": "Python3-tf2",
   "language": "python",
   "name": "tf2"
  },
  "language_info": {
   "codemirror_mode": {
    "name": "ipython",
    "version": 3
   },
   "file_extension": ".py",
   "mimetype": "text/x-python",
   "name": "python",
   "nbconvert_exporter": "python",
   "pygments_lexer": "ipython3",
   "version": "3.7.7"
  }
 },
 "nbformat": 4,
 "nbformat_minor": 4
}
