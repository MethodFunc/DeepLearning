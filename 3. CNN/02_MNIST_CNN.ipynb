{
 "cells": [
  {
   "cell_type": "code",
   "execution_count": 40,
   "metadata": {},
   "outputs": [],
   "source": [
    "import tensorflow as tf\n",
    "import pandas as pd\n",
    "import numpy as np\n",
    "import matplotlib.pyplot as plt\n",
    "import os\n",
    "import sys"
   ]
  },
  {
   "cell_type": "code",
   "execution_count": 31,
   "metadata": {},
   "outputs": [],
   "source": [
    "from tensorflow import keras\n",
    "from tensorflow.keras.datasets import mnist\n",
    "from tensorflow.keras.models import Sequential, load_model\n",
    "from tensorflow.keras.layers import Dense, Dropout, Flatten, Conv2D, MaxPooling2D\n",
    "from tensorflow.keras.callbacks import ModelCheckpoint, EarlyStopping"
   ]
  },
  {
   "cell_type": "code",
   "execution_count": 32,
   "metadata": {},
   "outputs": [],
   "source": [
    "seed =2020\n",
    "np.random.seed(seed)\n",
    "tf.random.set_seed(seed)"
   ]
  },
  {
   "cell_type": "code",
   "execution_count": 33,
   "metadata": {},
   "outputs": [],
   "source": [
    "(x_train, y_train), (x_test, y_test) = mnist.load_data()"
   ]
  },
  {
   "cell_type": "code",
   "execution_count": 34,
   "metadata": {},
   "outputs": [
    {
     "data": {
      "text/plain": [
       "(60000, 28, 28)"
      ]
     },
     "execution_count": 34,
     "metadata": {},
     "output_type": "execute_result"
    }
   ],
   "source": [
    "x_train.shape"
   ]
  },
  {
   "cell_type": "code",
   "execution_count": 41,
   "metadata": {},
   "outputs": [
    {
     "name": "stdout",
     "output_type": "stream",
     "text": [
      "  0   0   0   0   0   0   0   0   0   0   0   0   0   0   0   0   0   0   0   0   0   0   0   0   0   0   0   0 \n",
      "  0   0   0   0   0   0   0   0   0   0   0   0   0   0   0   0   0   0   0   0   0   0   0   0   0   0   0   0 \n",
      "  0   0   0   0   0   0   0   0   0   0   0   0   0   0   0   0   0   0   0   0   0   0   0   0   0   0   0   0 \n",
      "  0   0   0   0   0   0   0   0   0   0   0   0   0   0   0   0   0   0   0   0   0   0   0   0   0   0   0   0 \n",
      "  0   0   0   0   0   0   0   0   0   0   0   0   0   0   0   0   0   0   0   0   0   0   0   0   0   0   0   0 \n",
      "  0   0   0   0   0   0   0   0   0   0   0   0   3  18  18  18 126 136 175  26 166 255 247 127   0   0   0   0 \n",
      "  0   0   0   0   0   0   0   0  30  36  94 154 170 253 253 253 253 253 225 172 253 242 195  64   0   0   0   0 \n",
      "  0   0   0   0   0   0   0  49 238 253 253 253 253 253 253 253 253 251  93  82  82  56  39   0   0   0   0   0 \n",
      "  0   0   0   0   0   0   0  18 219 253 253 253 253 253 198 182 247 241   0   0   0   0   0   0   0   0   0   0 \n",
      "  0   0   0   0   0   0   0   0  80 156 107 253 253 205  11   0  43 154   0   0   0   0   0   0   0   0   0   0 \n",
      "  0   0   0   0   0   0   0   0   0  14   1 154 253  90   0   0   0   0   0   0   0   0   0   0   0   0   0   0 \n",
      "  0   0   0   0   0   0   0   0   0   0   0 139 253 190   2   0   0   0   0   0   0   0   0   0   0   0   0   0 \n",
      "  0   0   0   0   0   0   0   0   0   0   0  11 190 253  70   0   0   0   0   0   0   0   0   0   0   0   0   0 \n",
      "  0   0   0   0   0   0   0   0   0   0   0   0  35 241 225 160 108   1   0   0   0   0   0   0   0   0   0   0 \n",
      "  0   0   0   0   0   0   0   0   0   0   0   0   0  81 240 253 253 119  25   0   0   0   0   0   0   0   0   0 \n",
      "  0   0   0   0   0   0   0   0   0   0   0   0   0   0  45 186 253 253 150  27   0   0   0   0   0   0   0   0 \n",
      "  0   0   0   0   0   0   0   0   0   0   0   0   0   0   0  16  93 252 253 187   0   0   0   0   0   0   0   0 \n",
      "  0   0   0   0   0   0   0   0   0   0   0   0   0   0   0   0   0 249 253 249  64   0   0   0   0   0   0   0 \n",
      "  0   0   0   0   0   0   0   0   0   0   0   0   0   0  46 130 183 253 253 207   2   0   0   0   0   0   0   0 \n",
      "  0   0   0   0   0   0   0   0   0   0   0   0  39 148 229 253 253 253 250 182   0   0   0   0   0   0   0   0 \n",
      "  0   0   0   0   0   0   0   0   0   0  24 114 221 253 253 253 253 201  78   0   0   0   0   0   0   0   0   0 \n",
      "  0   0   0   0   0   0   0   0  23  66 213 253 253 253 253 198  81   2   0   0   0   0   0   0   0   0   0   0 \n",
      "  0   0   0   0   0   0  18 171 219 253 253 253 253 195  80   9   0   0   0   0   0   0   0   0   0   0   0   0 \n",
      "  0   0   0   0  55 172 226 253 253 253 253 244 133  11   0   0   0   0   0   0   0   0   0   0   0   0   0   0 \n",
      "  0   0   0   0 136 253 253 253 212 135 132  16   0   0   0   0   0   0   0   0   0   0   0   0   0   0   0   0 \n",
      "  0   0   0   0   0   0   0   0   0   0   0   0   0   0   0   0   0   0   0   0   0   0   0   0   0   0   0   0 \n",
      "  0   0   0   0   0   0   0   0   0   0   0   0   0   0   0   0   0   0   0   0   0   0   0   0   0   0   0   0 \n",
      "  0   0   0   0   0   0   0   0   0   0   0   0   0   0   0   0   0   0   0   0   0   0   0   0   0   0   0   0 \n"
     ]
    }
   ],
   "source": [
    "for x in x_train[0]:\n",
    "    for i in x:\n",
    "        sys.stdout.write('%3d ' % i)\n",
    "    sys.stdout.write('\\n')"
   ]
  },
  {
   "cell_type": "code",
   "execution_count": 45,
   "metadata": {},
   "outputs": [],
   "source": [
    "x_train = x_train.reshape(-1, 28, 28, 1).astype('float32') / 255\n",
    "x_test = x_test.reshape(-1, 28, 28, 1).astype('float32') / 255\n",
    "y_train = tf.keras.utils.to_categorical(y_train)\n",
    "y_test = tf.keras.utils.to_categorical(y_test)"
   ]
  },
  {
   "cell_type": "code",
   "execution_count": 6,
   "metadata": {},
   "outputs": [],
   "source": [
    "model = Sequential([\n",
    "    Conv2D(32, kernel_size=(3, 3), input_shape=(28, 28, 1), activation='relu'),\n",
    "    Conv2D(64, (3, 3), activation='relu'),\n",
    "    MaxPooling2D(pool_size=2),\n",
    "    Dropout(0.25),\n",
    "    Flatten(),\n",
    "    Dense(128, activation='relu'),\n",
    "    Dropout(0.5),\n",
    "    Dense(10, activation='softmax')\n",
    "])"
   ]
  },
  {
   "cell_type": "code",
   "execution_count": 7,
   "metadata": {},
   "outputs": [
    {
     "name": "stdout",
     "output_type": "stream",
     "text": [
      "Model: \"sequential\"\n",
      "_________________________________________________________________\n",
      "Layer (type)                 Output Shape              Param #   \n",
      "=================================================================\n",
      "conv2d (Conv2D)              (None, 26, 26, 32)        320       \n",
      "_________________________________________________________________\n",
      "conv2d_1 (Conv2D)            (None, 24, 24, 64)        18496     \n",
      "_________________________________________________________________\n",
      "max_pooling2d (MaxPooling2D) (None, 12, 12, 64)        0         \n",
      "_________________________________________________________________\n",
      "dropout (Dropout)            (None, 12, 12, 64)        0         \n",
      "_________________________________________________________________\n",
      "flatten (Flatten)            (None, 9216)              0         \n",
      "_________________________________________________________________\n",
      "dense (Dense)                (None, 128)               1179776   \n",
      "_________________________________________________________________\n",
      "dropout_1 (Dropout)          (None, 128)               0         \n",
      "_________________________________________________________________\n",
      "dense_1 (Dense)              (None, 10)                1290      \n",
      "=================================================================\n",
      "Total params: 1,199,882\n",
      "Trainable params: 1,199,882\n",
      "Non-trainable params: 0\n",
      "_________________________________________________________________\n"
     ]
    }
   ],
   "source": [
    "model.summary()"
   ]
  },
  {
   "cell_type": "code",
   "execution_count": 8,
   "metadata": {},
   "outputs": [],
   "source": [
    "model.compile(loss=keras.losses.categorical_crossentropy,\n",
    "              optimizer = keras.optimizers.Adam(),\n",
    "              metrics =[keras.metrics.categorical_accuracy] )"
   ]
  },
  {
   "cell_type": "code",
   "execution_count": 9,
   "metadata": {},
   "outputs": [],
   "source": [
    "MODEL_DIR = '../model/'\n",
    "if not os.path.exists(MODEL_DIR):\n",
    "    os.mkdir(MODEL_DIR)"
   ]
  },
  {
   "cell_type": "code",
   "execution_count": 10,
   "metadata": {},
   "outputs": [],
   "source": [
    "modelpath = MODEL_DIR + 'mnist-cnn-{epoch:02d}-{val_loss:.4f}.hdf5'\n",
    "chekpointer = ModelCheckpoint(modelpath, verbose=1, save_best_only=True)\n",
    "early_stopping_cb = EarlyStopping(patience=10)"
   ]
  },
  {
   "cell_type": "code",
   "execution_count": 11,
   "metadata": {},
   "outputs": [
    {
     "name": "stdout",
     "output_type": "stream",
     "text": [
      "Train on 48000 samples, validate on 12000 samples\n",
      "Epoch 1/30\n",
      "47800/48000 [============================>.] - ETA: 0s - loss: 0.3066 - categorical_accuracy: 0.9062\n",
      "Epoch 00001: val_loss improved from inf to 0.07302, saving model to ../model/mnist-cnn-01-0.0730.hdf5\n",
      "48000/48000 [==============================] - 34s 713us/sample - loss: 0.3060 - categorical_accuracy: 0.9064 - val_loss: 0.0730 - val_categorical_accuracy: 0.9801\n",
      "Epoch 2/30\n",
      "47800/48000 [============================>.] - ETA: 0s - loss: 0.0958 - categorical_accuracy: 0.9714\n",
      "Epoch 00002: val_loss improved from 0.07302 to 0.05471, saving model to ../model/mnist-cnn-02-0.0547.hdf5\n",
      "48000/48000 [==============================] - 34s 703us/sample - loss: 0.0957 - categorical_accuracy: 0.9715 - val_loss: 0.0547 - val_categorical_accuracy: 0.9842\n",
      "Epoch 3/30\n",
      "47800/48000 [============================>.] - ETA: 0s - loss: 0.0676 - categorical_accuracy: 0.9800\n",
      "Epoch 00003: val_loss improved from 0.05471 to 0.04430, saving model to ../model/mnist-cnn-03-0.0443.hdf5\n",
      "48000/48000 [==============================] - 34s 707us/sample - loss: 0.0675 - categorical_accuracy: 0.9801 - val_loss: 0.0443 - val_categorical_accuracy: 0.9875\n",
      "Epoch 4/30\n",
      "47800/48000 [============================>.] - ETA: 0s - loss: 0.0573 - categorical_accuracy: 0.9822\n",
      "Epoch 00004: val_loss improved from 0.04430 to 0.04322, saving model to ../model/mnist-cnn-04-0.0432.hdf5\n",
      "48000/48000 [==============================] - 34s 709us/sample - loss: 0.0574 - categorical_accuracy: 0.9822 - val_loss: 0.0432 - val_categorical_accuracy: 0.9882\n",
      "Epoch 5/30\n",
      "47800/48000 [============================>.] - ETA: 0s - loss: 0.0486 - categorical_accuracy: 0.9844\n",
      "Epoch 00005: val_loss improved from 0.04322 to 0.04079, saving model to ../model/mnist-cnn-05-0.0408.hdf5\n",
      "48000/48000 [==============================] - 34s 702us/sample - loss: 0.0485 - categorical_accuracy: 0.9844 - val_loss: 0.0408 - val_categorical_accuracy: 0.9877\n",
      "Epoch 6/30\n",
      "47800/48000 [============================>.] - ETA: 0s - loss: 0.0419 - categorical_accuracy: 0.9862\n",
      "Epoch 00006: val_loss improved from 0.04079 to 0.03535, saving model to ../model/mnist-cnn-06-0.0354.hdf5\n",
      "48000/48000 [==============================] - 34s 709us/sample - loss: 0.0420 - categorical_accuracy: 0.9862 - val_loss: 0.0354 - val_categorical_accuracy: 0.9902\n",
      "Epoch 7/30\n",
      "47800/48000 [============================>.] - ETA: 0s - loss: 0.0369 - categorical_accuracy: 0.9880\n",
      "Epoch 00007: val_loss did not improve from 0.03535\n",
      "48000/48000 [==============================] - 34s 700us/sample - loss: 0.0368 - categorical_accuracy: 0.9880 - val_loss: 0.0392 - val_categorical_accuracy: 0.9893\n",
      "Epoch 8/30\n",
      "47800/48000 [============================>.] - ETA: 0s - loss: 0.0345 - categorical_accuracy: 0.9887\n",
      "Epoch 00008: val_loss did not improve from 0.03535\n",
      "48000/48000 [==============================] - 34s 703us/sample - loss: 0.0345 - categorical_accuracy: 0.9887 - val_loss: 0.0363 - val_categorical_accuracy: 0.9898\n",
      "Epoch 9/30\n",
      "47800/48000 [============================>.] - ETA: 0s - loss: 0.0277 - categorical_accuracy: 0.9913\n",
      "Epoch 00009: val_loss did not improve from 0.03535\n",
      "48000/48000 [==============================] - 34s 699us/sample - loss: 0.0277 - categorical_accuracy: 0.9914 - val_loss: 0.0361 - val_categorical_accuracy: 0.9898\n",
      "Epoch 10/30\n",
      "47800/48000 [============================>.] - ETA: 0s - loss: 0.0260 - categorical_accuracy: 0.9909\n",
      "Epoch 00010: val_loss did not improve from 0.03535\n",
      "48000/48000 [==============================] - 34s 713us/sample - loss: 0.0260 - categorical_accuracy: 0.9909 - val_loss: 0.0360 - val_categorical_accuracy: 0.9908\n",
      "Epoch 11/30\n",
      "47800/48000 [============================>.] - ETA: 0s - loss: 0.0234 - categorical_accuracy: 0.9925\n",
      "Epoch 00011: val_loss did not improve from 0.03535\n",
      "48000/48000 [==============================] - 34s 716us/sample - loss: 0.0233 - categorical_accuracy: 0.9925 - val_loss: 0.0375 - val_categorical_accuracy: 0.9903\n",
      "Epoch 12/30\n",
      "47800/48000 [============================>.] - ETA: 0s - loss: 0.0227 - categorical_accuracy: 0.9922\n",
      "Epoch 00012: val_loss did not improve from 0.03535\n",
      "48000/48000 [==============================] - 34s 710us/sample - loss: 0.0228 - categorical_accuracy: 0.9922 - val_loss: 0.0378 - val_categorical_accuracy: 0.9900\n",
      "Epoch 13/30\n",
      "47800/48000 [============================>.] - ETA: 0s - loss: 0.0193 - categorical_accuracy: 0.9939\n",
      "Epoch 00013: val_loss did not improve from 0.03535\n",
      "48000/48000 [==============================] - 34s 709us/sample - loss: 0.0193 - categorical_accuracy: 0.9939 - val_loss: 0.0367 - val_categorical_accuracy: 0.9907\n",
      "Epoch 14/30\n",
      "47800/48000 [============================>.] - ETA: 0s - loss: 0.0196 - categorical_accuracy: 0.9932\n",
      "Epoch 00014: val_loss improved from 0.03535 to 0.03519, saving model to ../model/mnist-cnn-14-0.0352.hdf5\n",
      "48000/48000 [==============================] - 34s 702us/sample - loss: 0.0197 - categorical_accuracy: 0.9932 - val_loss: 0.0352 - val_categorical_accuracy: 0.9909\n",
      "Epoch 15/30\n",
      "47800/48000 [============================>.] - ETA: 0s - loss: 0.0180 - categorical_accuracy: 0.9942\n",
      "Epoch 00015: val_loss did not improve from 0.03519\n",
      "48000/48000 [==============================] - 34s 701us/sample - loss: 0.0180 - categorical_accuracy: 0.9942 - val_loss: 0.0404 - val_categorical_accuracy: 0.9899\n",
      "Epoch 16/30\n",
      "47800/48000 [============================>.] - ETA: 0s - loss: 0.0171 - categorical_accuracy: 0.9942\n",
      "Epoch 00016: val_loss improved from 0.03519 to 0.03468, saving model to ../model/mnist-cnn-16-0.0347.hdf5\n",
      "48000/48000 [==============================] - 34s 702us/sample - loss: 0.0170 - categorical_accuracy: 0.9942 - val_loss: 0.0347 - val_categorical_accuracy: 0.9921\n",
      "Epoch 17/30\n",
      "47800/48000 [============================>.] - ETA: 0s - loss: 0.0167 - categorical_accuracy: 0.9940\n",
      "Epoch 00017: val_loss did not improve from 0.03468\n",
      "48000/48000 [==============================] - 34s 709us/sample - loss: 0.0167 - categorical_accuracy: 0.9940 - val_loss: 0.0393 - val_categorical_accuracy: 0.9909\n",
      "Epoch 18/30\n",
      "47800/48000 [============================>.] - ETA: 0s - loss: 0.0152 - categorical_accuracy: 0.9950\n",
      "Epoch 00018: val_loss did not improve from 0.03468\n",
      "48000/48000 [==============================] - 34s 705us/sample - loss: 0.0152 - categorical_accuracy: 0.9950 - val_loss: 0.0403 - val_categorical_accuracy: 0.9900\n",
      "Epoch 19/30\n",
      "47800/48000 [============================>.] - ETA: 0s - loss: 0.0133 - categorical_accuracy: 0.9953\n",
      "Epoch 00019: val_loss did not improve from 0.03468\n",
      "48000/48000 [==============================] - 34s 717us/sample - loss: 0.0133 - categorical_accuracy: 0.9954 - val_loss: 0.0433 - val_categorical_accuracy: 0.9903\n",
      "Epoch 20/30\n",
      "47800/48000 [============================>.] - ETA: 0s - loss: 0.0141 - categorical_accuracy: 0.9952\n",
      "Epoch 00020: val_loss did not improve from 0.03468\n",
      "48000/48000 [==============================] - 34s 711us/sample - loss: 0.0141 - categorical_accuracy: 0.9952 - val_loss: 0.0380 - val_categorical_accuracy: 0.9912\n",
      "Epoch 21/30\n",
      "47800/48000 [============================>.] - ETA: 0s - loss: 0.0128 - categorical_accuracy: 0.9954\n",
      "Epoch 00021: val_loss did not improve from 0.03468\n",
      "48000/48000 [==============================] - 34s 706us/sample - loss: 0.0128 - categorical_accuracy: 0.9954 - val_loss: 0.0411 - val_categorical_accuracy: 0.9913\n",
      "Epoch 22/30\n",
      "47800/48000 [============================>.] - ETA: 0s - loss: 0.0148 - categorical_accuracy: 0.9951\n",
      "Epoch 00022: val_loss did not improve from 0.03468\n",
      "48000/48000 [==============================] - 34s 702us/sample - loss: 0.0149 - categorical_accuracy: 0.9951 - val_loss: 0.0434 - val_categorical_accuracy: 0.9903\n",
      "Epoch 23/30\n",
      "47800/48000 [============================>.] - ETA: 0s - loss: 0.0139 - categorical_accuracy: 0.9953\n",
      "Epoch 00023: val_loss did not improve from 0.03468\n",
      "48000/48000 [==============================] - 34s 702us/sample - loss: 0.0139 - categorical_accuracy: 0.9952 - val_loss: 0.0389 - val_categorical_accuracy: 0.9908\n",
      "Epoch 24/30\n",
      "47800/48000 [============================>.] - ETA: 0s - loss: 0.0120 - categorical_accuracy: 0.9960\n",
      "Epoch 00024: val_loss did not improve from 0.03468\n",
      "48000/48000 [==============================] - 34s 710us/sample - loss: 0.0120 - categorical_accuracy: 0.9960 - val_loss: 0.0409 - val_categorical_accuracy: 0.9916\n",
      "Epoch 25/30\n",
      "47800/48000 [============================>.] - ETA: 0s - loss: 0.0111 - categorical_accuracy: 0.9960\n",
      "Epoch 00025: val_loss did not improve from 0.03468\n",
      "48000/48000 [==============================] - 34s 718us/sample - loss: 0.0112 - categorical_accuracy: 0.9960 - val_loss: 0.0424 - val_categorical_accuracy: 0.9914\n",
      "Epoch 26/30\n",
      "47800/48000 [============================>.] - ETA: 0s - loss: 0.0107 - categorical_accuracy: 0.9959\n",
      "Epoch 00026: val_loss did not improve from 0.03468\n",
      "48000/48000 [==============================] - 34s 707us/sample - loss: 0.0107 - categorical_accuracy: 0.9959 - val_loss: 0.0461 - val_categorical_accuracy: 0.9912\n"
     ]
    }
   ],
   "source": [
    "history = model.fit(x_train, y_train, validation_split=0.2, epochs=30, batch_size=200, callbacks=[chekpointer, early_stopping_cb])"
   ]
  },
  {
   "cell_type": "code",
   "execution_count": 43,
   "metadata": {},
   "outputs": [],
   "source": [
    "del model\n",
    "model = load_model('../model/mnist-cnn-16-0.0347.hdf5')"
   ]
  },
  {
   "cell_type": "code",
   "execution_count": 50,
   "metadata": {},
   "outputs": [
    {
     "data": {
      "text/plain": [
       "0.9914"
      ]
     },
     "execution_count": 50,
     "metadata": {},
     "output_type": "execute_result"
    }
   ],
   "source": [
    "model.evaluate(x_test, y_test, verbose=4)[1]"
   ]
  },
  {
   "cell_type": "code",
   "execution_count": 21,
   "metadata": {},
   "outputs": [],
   "source": [
    "y_vloss = history.history['val_loss']\n",
    "y_loss = history.history['loss']"
   ]
  },
  {
   "cell_type": "code",
   "execution_count": 22,
   "metadata": {},
   "outputs": [
    {
     "data": {
      "image/png": "[encoded data removed]",
      "text/plain": [
       "<Figure size 576x432 with 1 Axes>"
      ]
     },
     "metadata": {
      "needs_background": "light"
     },
     "output_type": "display_data"
    }
   ],
   "source": [
    "# 그래프로 표현\n",
    "x_len = np.arange(1, len(y_loss)+1)\n",
    "plt.figure(figsize=(8,6))\n",
    "plt.plot(x_len, y_vloss, marker='.', c=\"red\", label='Testset_loss')\n",
    "plt.plot(x_len, y_loss, marker='.', c=\"blue\", label='Trainset_loss')\n",
    "\n",
    "# 그래프에 그리드를 주고 레이블을 표시\n",
    "plt.legend(loc='upper right')\n",
    "# plt.axis([0, 20, 0, 0.35])\n",
    "plt.grid()\n",
    "plt.xlabel('epoch')\n",
    "plt.ylabel('loss')\n",
    "plt.show()"
   ]
  },
  {
   "cell_type": "code",
   "execution_count": null,
   "metadata": {},
   "outputs": [],
   "source": []
  }
 ],
 "metadata": {
  "kernelspec": {
   "display_name": "Python3-tf2",
   "language": "python",
   "name": "tf2"
  },
  "language_info": {
   "codemirror_mode": {
    "name": "ipython",
    "version": 3
   },
   "file_extension": ".py",
   "mimetype": "text/x-python",
   "name": "python",
   "nbconvert_exporter": "python",
   "pygments_lexer": "ipython3",
   "version": "3.7.1"
  }
 },
 "nbformat": 4,
 "nbformat_minor": 4
}
