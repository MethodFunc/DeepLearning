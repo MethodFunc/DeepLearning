{
 "cells": [
  {
   "cell_type": "code",
   "execution_count": 1,
   "metadata": {},
   "outputs": [],
   "source": [
    "import tensorflow as tf\n",
    "import pandas as pd\n",
    "import numpy as np\n",
    "import matplotlib.pyplot as plt"
   ]
  },
  {
   "cell_type": "code",
   "execution_count": 2,
   "metadata": {},
   "outputs": [],
   "source": [
    "from tensorflow import keras\n",
    "from tensorflow.keras.models import Sequential, load_model\n",
    "from tensorflow.keras.layers import Dense, Dropout, Flatten, Conv2D, MaxPooling2D\n",
    "from tensorflow.keras.callbacks import ModelCheckpoint, EarlyStopping"
   ]
  },
  {
   "cell_type": "code",
   "execution_count": 3,
   "metadata": {},
   "outputs": [],
   "source": [
    "seed = 2020\n",
    "np.random.seed(seed)\n",
    "tf.random.set_seed(seed)"
   ]
  },
  {
   "cell_type": "code",
   "execution_count": 4,
   "metadata": {},
   "outputs": [],
   "source": [
    "fashion_mnist = keras.datasets.fashion_mnist\n",
    "\n",
    "(train_images, train_labels), (test_images, test_labels) = fashion_mnist.load_data()"
   ]
  },
  {
   "cell_type": "code",
   "execution_count": 5,
   "metadata": {},
   "outputs": [
    {
     "data": {
      "text/plain": [
       "((60000, 28, 28), (60000,))"
      ]
     },
     "execution_count": 5,
     "metadata": {},
     "output_type": "execute_result"
    }
   ],
   "source": [
    "train_images.shape, train_labels.shape"
   ]
  },
  {
   "cell_type": "code",
   "execution_count": 6,
   "metadata": {},
   "outputs": [],
   "source": [
    "class_names = ['T-shirt/top', 'Trouser', 'Pullover', 'Dress', 'Coat',\n",
    "               'Sandal', 'Shirt', 'Sneaker', 'Bag', 'Ankle boot']"
   ]
  },
  {
   "cell_type": "code",
   "execution_count": 7,
   "metadata": {},
   "outputs": [],
   "source": [
    "x_train = train_images.reshape(-1, 28, 28, 1).astype('float32') / 255\n",
    "x_test = test_images.reshape(-1, 28, 28, 1).astype('float32') / 255\n",
    "y_train = tf.keras.utils.to_categorical(train_labels)\n",
    "y_test = tf.keras.utils.to_categorical(test_labels)"
   ]
  },
  {
   "cell_type": "code",
   "execution_count": 8,
   "metadata": {},
   "outputs": [],
   "source": [
    "model = Sequential([\n",
    "    Conv2D(32, kernel_size=(3, 3), input_shape=(28, 28, 1), activation='relu'),\n",
    "    Conv2D(64, kernel_size=(3, 3), activation='relu'),\n",
    "    Dropout(0.25),\n",
    "    MaxPooling2D(3),\n",
    "    Dropout(0.5),\n",
    "    Flatten(),\n",
    "    Dense(128, activation='relu'),\n",
    "    Dense(10, activation='softmax')\n",
    "])"
   ]
  },
  {
   "cell_type": "code",
   "execution_count": 9,
   "metadata": {},
   "outputs": [],
   "source": [
    "model.compile(loss = keras.losses.categorical_crossentropy,\n",
    "             optimizer = keras.optimizers.Nadam(),\n",
    "             metrics = [keras.metrics.categorical_accuracy])"
   ]
  },
  {
   "cell_type": "code",
   "execution_count": 10,
   "metadata": {},
   "outputs": [],
   "source": [
    "early_stopping_cb = EarlyStopping(patience=50)"
   ]
  },
  {
   "cell_type": "code",
   "execution_count": 11,
   "metadata": {},
   "outputs": [
    {
     "name": "stdout",
     "output_type": "stream",
     "text": [
      "Train on 48000 samples, validate on 12000 samples\n",
      "Epoch 1/10\n",
      "48000/48000 [==============================] - 51s 1ms/sample - loss: 0.4488 - categorical_accuracy: 0.8360 - val_loss: 0.3243 - val_categorical_accuracy: 0.8944\n",
      "Epoch 2/10\n",
      "48000/48000 [==============================] - 50s 1ms/sample - loss: 0.3019 - categorical_accuracy: 0.8894 - val_loss: 0.2759 - val_categorical_accuracy: 0.9021\n",
      "Epoch 3/10\n",
      "48000/48000 [==============================] - 50s 1ms/sample - loss: 0.2603 - categorical_accuracy: 0.9034 - val_loss: 0.2468 - val_categorical_accuracy: 0.9103\n",
      "Epoch 4/10\n",
      "48000/48000 [==============================] - 50s 1ms/sample - loss: 0.2342 - categorical_accuracy: 0.9136 - val_loss: 0.2328 - val_categorical_accuracy: 0.9168\n",
      "Epoch 5/10\n",
      "48000/48000 [==============================] - 50s 1ms/sample - loss: 0.2169 - categorical_accuracy: 0.9194 - val_loss: 0.2204 - val_categorical_accuracy: 0.9243\n",
      "Epoch 6/10\n",
      "48000/48000 [==============================] - 51s 1ms/sample - loss: 0.2003 - categorical_accuracy: 0.9246 - val_loss: 0.2058 - val_categorical_accuracy: 0.9234\n",
      "Epoch 7/10\n",
      "48000/48000 [==============================] - 96s 2ms/sample - loss: 0.1871 - categorical_accuracy: 0.9298 - val_loss: 0.2080 - val_categorical_accuracy: 0.9264\n",
      "Epoch 8/10\n",
      "48000/48000 [==============================] - 101s 2ms/sample - loss: 0.1746 - categorical_accuracy: 0.9338 - val_loss: 0.1972 - val_categorical_accuracy: 0.9287\n",
      "Epoch 9/10\n",
      "48000/48000 [==============================] - 103s 2ms/sample - loss: 0.1632 - categorical_accuracy: 0.9381 - val_loss: 0.1914 - val_categorical_accuracy: 0.9304\n",
      "Epoch 10/10\n",
      "48000/48000 [==============================] - 102s 2ms/sample - loss: 0.1555 - categorical_accuracy: 0.9424 - val_loss: 0.2020 - val_categorical_accuracy: 0.9256\n"
     ]
    },
    {
     "data": {
      "text/plain": [
       "<tensorflow.python.keras.callbacks.History at 0x1a7cb9681c8>"
      ]
     },
     "execution_count": 11,
     "metadata": {},
     "output_type": "execute_result"
    }
   ],
   "source": [
    "model.fit(x_train, y_train, validation_split = 0.2, epochs = 10, batch_size = 50, callbacks=[early_stopping_cb])"
   ]
  },
  {
   "cell_type": "code",
   "execution_count": 12,
   "metadata": {},
   "outputs": [
    {
     "data": {
      "text/plain": [
       "0.9231"
      ]
     },
     "execution_count": 12,
     "metadata": {},
     "output_type": "execute_result"
    }
   ],
   "source": [
    "model.evaluate(x_test, y_test, verbose=0)[1]"
   ]
  },
  {
   "cell_type": "code",
   "execution_count": null,
   "metadata": {},
   "outputs": [],
   "source": []
  }
 ],
 "metadata": {
  "kernelspec": {
   "display_name": "Python3-tf2",
   "language": "python",
   "name": "tf2"
  },
  "language_info": {
   "codemirror_mode": {
    "name": "ipython",
    "version": 3
   },
   "file_extension": ".py",
   "mimetype": "text/x-python",
   "name": "python",
   "nbconvert_exporter": "python",
   "pygments_lexer": "ipython3",
   "version": "3.7.7"
  }
 },
 "nbformat": 4,
 "nbformat_minor": 4
}
