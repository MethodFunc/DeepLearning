{
 "cells": [
  {
   "cell_type": "code",
   "execution_count": 1,
   "metadata": {},
   "outputs": [],
   "source": [
    "import tensorflow as tf\n",
    "import pandas as pd\n",
    "import numpy as np\n",
    "import matplotlib.pyplot as plt\n",
    "import os\n",
    "import sys"
   ]
  },
  {
   "cell_type": "code",
   "execution_count": 2,
   "metadata": {},
   "outputs": [],
   "source": [
    "from tensorflow import keras\n",
    "from tensorflow.keras.datasets import mnist\n",
    "from tensorflow.keras.models import Sequential, load_model\n",
    "from tensorflow.keras.layers import Dense, Dropout, Flatten, Conv2D, MaxPooling2D\n",
    "from tensorflow.keras.callbacks import ModelCheckpoint, EarlyStopping"
   ]
  },
  {
   "cell_type": "code",
   "execution_count": 3,
   "metadata": {},
   "outputs": [],
   "source": [
    "seed =2020\n",
    "np.random.seed(seed)\n",
    "tf.random.set_seed(seed)"
   ]
  },
  {
   "cell_type": "code",
   "execution_count": 4,
   "metadata": {},
   "outputs": [],
   "source": [
    "(x_train, y_train), (x_test, y_test) = mnist.load_data()"
   ]
  },
  {
   "cell_type": "code",
   "execution_count": 5,
   "metadata": {},
   "outputs": [
    {
     "data": {
      "text/plain": [
       "(60000, 28, 28)"
      ]
     },
     "execution_count": 5,
     "metadata": {},
     "output_type": "execute_result"
    }
   ],
   "source": [
    "x_train.shape"
   ]
  },
  {
   "cell_type": "code",
   "execution_count": 6,
   "metadata": {},
   "outputs": [],
   "source": [
    "x_train = x_train.reshape(-1, 28, 28, 1).astype('float32') / 255\n",
    "x_test = x_test.reshape(-1, 28, 28, 1).astype('float32') / 255\n",
    "y_train = tf.keras.utils.to_categorical(y_train)\n",
    "y_test = tf.keras.utils.to_categorical(y_test)"
   ]
  },
  {
   "cell_type": "code",
   "execution_count": 7,
   "metadata": {},
   "outputs": [],
   "source": [
    "model = Sequential([\n",
    "    Conv2D(128, kernel_size=(2, 2), input_shape=(28, 28, 1), activation='relu'),\n",
    "    Conv2D(64, (3, 3), activation='relu'),\n",
    "    MaxPooling2D(pool_size=2),\n",
    "    Dropout(0.3),\n",
    "    Flatten(),\n",
    "    Dense(32, activation='relu'),\n",
    "    Dropout(0.5),\n",
    "    Dense(10, activation='softmax')\n",
    "])"
   ]
  },
  {
   "cell_type": "code",
   "execution_count": 8,
   "metadata": {},
   "outputs": [
    {
     "name": "stdout",
     "output_type": "stream",
     "text": [
      "Model: \"sequential\"\n",
      "_________________________________________________________________\n",
      "Layer (type)                 Output Shape              Param #   \n",
      "=================================================================\n",
      "conv2d (Conv2D)              (None, 27, 27, 128)       640       \n",
      "_________________________________________________________________\n",
      "conv2d_1 (Conv2D)            (None, 25, 25, 64)        73792     \n",
      "_________________________________________________________________\n",
      "max_pooling2d (MaxPooling2D) (None, 12, 12, 64)        0         \n",
      "_________________________________________________________________\n",
      "dropout (Dropout)            (None, 12, 12, 64)        0         \n",
      "_________________________________________________________________\n",
      "flatten (Flatten)            (None, 9216)              0         \n",
      "_________________________________________________________________\n",
      "dense (Dense)                (None, 32)                294944    \n",
      "_________________________________________________________________\n",
      "dropout_1 (Dropout)          (None, 32)                0         \n",
      "_________________________________________________________________\n",
      "dense_1 (Dense)              (None, 10)                330       \n",
      "=================================================================\n",
      "Total params: 369,706\n",
      "Trainable params: 369,706\n",
      "Non-trainable params: 0\n",
      "_________________________________________________________________\n"
     ]
    }
   ],
   "source": [
    "model.summary()"
   ]
  },
  {
   "cell_type": "code",
   "execution_count": 9,
   "metadata": {},
   "outputs": [],
   "source": [
    "model.compile(loss=keras.losses.categorical_crossentropy,\n",
    "              optimizer = keras.optimizers.Adam(),\n",
    "              metrics =[keras.metrics.categorical_accuracy] )"
   ]
  },
  {
   "cell_type": "code",
   "execution_count": 10,
   "metadata": {},
   "outputs": [],
   "source": [
    "MODEL_DIR = '../model/'\n",
    "if not os.path.exists(MODEL_DIR):\n",
    "    os.mkdir(MODEL_DIR)"
   ]
  },
  {
   "cell_type": "code",
   "execution_count": 11,
   "metadata": {},
   "outputs": [],
   "source": [
    "modelpath = MODEL_DIR + 'mnist-cnn-{epoch:02d}-{val_loss:.4f}.hdf5'\n",
    "chekpointer = ModelCheckpoint(modelpath, verbose=1, save_best_only=True)\n",
    "early_stopping_cb = EarlyStopping(patience=10)"
   ]
  },
  {
   "cell_type": "code",
   "execution_count": 12,
   "metadata": {},
   "outputs": [
    {
     "name": "stdout",
     "output_type": "stream",
     "text": [
      "Train on 48000 samples, validate on 12000 samples\n",
      "Epoch 1/30\n",
      "47800/48000 [============================>.] - ETA: 0s - loss: 0.5772 - categorical_accuracy: 0.8108\n",
      "Epoch 00001: val_loss improved from inf to 0.10408, saving model to ../model/mnist-cnn-01-0.1041.hdf5\n",
      "48000/48000 [==============================] - 174s 4ms/sample - loss: 0.5760 - categorical_accuracy: 0.8112 - val_loss: 0.1041 - val_categorical_accuracy: 0.9719\n",
      "Epoch 2/30\n",
      "47800/48000 [============================>.] - ETA: 0s - loss: 0.2705 - categorical_accuracy: 0.9154\n",
      "Epoch 00002: val_loss improved from 0.10408 to 0.08041, saving model to ../model/mnist-cnn-02-0.0804.hdf5\n",
      "48000/48000 [==============================] - 170s 4ms/sample - loss: 0.2703 - categorical_accuracy: 0.9154 - val_loss: 0.0804 - val_categorical_accuracy: 0.9771\n",
      "Epoch 3/30\n",
      "47800/48000 [============================>.] - ETA: 0s - loss: 0.2115 - categorical_accuracy: 0.9310\n",
      "Epoch 00003: val_loss improved from 0.08041 to 0.06508, saving model to ../model/mnist-cnn-03-0.0651.hdf5\n",
      "48000/48000 [==============================] - 121s 3ms/sample - loss: 0.2112 - categorical_accuracy: 0.9311 - val_loss: 0.0651 - val_categorical_accuracy: 0.9810\n",
      "Epoch 4/30\n",
      "47800/48000 [============================>.] - ETA: 0s - loss: 0.1878 - categorical_accuracy: 0.9385\n",
      "Epoch 00004: val_loss improved from 0.06508 to 0.06011, saving model to ../model/mnist-cnn-04-0.0601.hdf5\n",
      "48000/48000 [==============================] - 100s 2ms/sample - loss: 0.1880 - categorical_accuracy: 0.9384 - val_loss: 0.0601 - val_categorical_accuracy: 0.9837\n",
      "Epoch 5/30\n",
      "47800/48000 [============================>.] - ETA: 0s - loss: 0.1652 - categorical_accuracy: 0.9443\n",
      "Epoch 00005: val_loss improved from 0.06011 to 0.05585, saving model to ../model/mnist-cnn-05-0.0558.hdf5\n",
      "48000/48000 [==============================] - 98s 2ms/sample - loss: 0.1651 - categorical_accuracy: 0.9443 - val_loss: 0.0558 - val_categorical_accuracy: 0.9842\n",
      "Epoch 6/30\n",
      "47800/48000 [============================>.] - ETA: 0s - loss: 0.1549 - categorical_accuracy: 0.9481\n",
      "Epoch 00006: val_loss improved from 0.05585 to 0.04880, saving model to ../model/mnist-cnn-06-0.0488.hdf5\n",
      "48000/48000 [==============================] - 98s 2ms/sample - loss: 0.1554 - categorical_accuracy: 0.9480 - val_loss: 0.0488 - val_categorical_accuracy: 0.9862\n",
      "Epoch 7/30\n",
      "47800/48000 [============================>.] - ETA: 0s - loss: 0.1408 - categorical_accuracy: 0.9533\n",
      "Epoch 00007: val_loss improved from 0.04880 to 0.04748, saving model to ../model/mnist-cnn-07-0.0475.hdf5\n",
      "48000/48000 [==============================] - 98s 2ms/sample - loss: 0.1408 - categorical_accuracy: 0.9533 - val_loss: 0.0475 - val_categorical_accuracy: 0.9865\n",
      "Epoch 8/30\n",
      "47800/48000 [============================>.] - ETA: 0s - loss: 0.1336 - categorical_accuracy: 0.9544\n",
      "Epoch 00008: val_loss did not improve from 0.04748\n",
      "48000/48000 [==============================] - 98s 2ms/sample - loss: 0.1337 - categorical_accuracy: 0.9544 - val_loss: 0.0511 - val_categorical_accuracy: 0.9856\n",
      "Epoch 9/30\n",
      "47800/48000 [============================>.] - ETA: 0s - loss: 0.1272 - categorical_accuracy: 0.9565\n",
      "Epoch 00009: val_loss improved from 0.04748 to 0.04540, saving model to ../model/mnist-cnn-09-0.0454.hdf5\n",
      "48000/48000 [==============================] - 97s 2ms/sample - loss: 0.1270 - categorical_accuracy: 0.9565 - val_loss: 0.0454 - val_categorical_accuracy: 0.9882\n",
      "Epoch 10/30\n",
      "47800/48000 [============================>.] - ETA: 0s - loss: 0.1227 - categorical_accuracy: 0.9572\n",
      "Epoch 00010: val_loss did not improve from 0.04540\n",
      "48000/48000 [==============================] - 98s 2ms/sample - loss: 0.1227 - categorical_accuracy: 0.9573 - val_loss: 0.0472 - val_categorical_accuracy: 0.9873\n",
      "Epoch 11/30\n",
      "47800/48000 [============================>.] - ETA: 0s - loss: 0.1199 - categorical_accuracy: 0.9579\n",
      "Epoch 00011: val_loss did not improve from 0.04540\n",
      "48000/48000 [==============================] - 98s 2ms/sample - loss: 0.1197 - categorical_accuracy: 0.9579 - val_loss: 0.0512 - val_categorical_accuracy: 0.9866\n",
      "Epoch 12/30\n",
      "47800/48000 [============================>.] - ETA: 0s - loss: 0.1128 - categorical_accuracy: 0.9607\n",
      "Epoch 00012: val_loss did not improve from 0.04540\n",
      "48000/48000 [==============================] - 98s 2ms/sample - loss: 0.1128 - categorical_accuracy: 0.9608 - val_loss: 0.0458 - val_categorical_accuracy: 0.9873\n",
      "Epoch 13/30\n",
      "47800/48000 [============================>.] - ETA: 0s - loss: 0.1045 - categorical_accuracy: 0.9625\n",
      "Epoch 00013: val_loss did not improve from 0.04540\n",
      "48000/48000 [==============================] - 97s 2ms/sample - loss: 0.1045 - categorical_accuracy: 0.9625 - val_loss: 0.0482 - val_categorical_accuracy: 0.9872\n",
      "Epoch 14/30\n",
      "47800/48000 [============================>.] - ETA: 0s - loss: 0.1069 - categorical_accuracy: 0.9621\n",
      "Epoch 00014: val_loss did not improve from 0.04540\n",
      "48000/48000 [==============================] - 98s 2ms/sample - loss: 0.1068 - categorical_accuracy: 0.9621 - val_loss: 0.0467 - val_categorical_accuracy: 0.9883\n",
      "Epoch 15/30\n",
      "47800/48000 [============================>.] - ETA: 0s - loss: 0.1008 - categorical_accuracy: 0.9637\n",
      "Epoch 00015: val_loss did not improve from 0.04540\n",
      "48000/48000 [==============================] - 97s 2ms/sample - loss: 0.1009 - categorical_accuracy: 0.9636 - val_loss: 0.0470 - val_categorical_accuracy: 0.9877\n",
      "Epoch 16/30\n",
      "47800/48000 [============================>.] - ETA: 0s - loss: 0.0995 - categorical_accuracy: 0.9649\n",
      "Epoch 00016: val_loss did not improve from 0.04540\n",
      "48000/48000 [==============================] - 98s 2ms/sample - loss: 0.0996 - categorical_accuracy: 0.9647 - val_loss: 0.0504 - val_categorical_accuracy: 0.9885\n",
      "Epoch 17/30\n",
      "47800/48000 [============================>.] - ETA: 0s - loss: 0.0952 - categorical_accuracy: 0.9661\n",
      "Epoch 00017: val_loss did not improve from 0.04540\n",
      "48000/48000 [==============================] - 98s 2ms/sample - loss: 0.0952 - categorical_accuracy: 0.9661 - val_loss: 0.0466 - val_categorical_accuracy: 0.9886\n",
      "Epoch 18/30\n",
      "47800/48000 [============================>.] - ETA: 0s - loss: 0.0924 - categorical_accuracy: 0.9665\n",
      "Epoch 00018: val_loss did not improve from 0.04540\n",
      "48000/48000 [==============================] - 98s 2ms/sample - loss: 0.0922 - categorical_accuracy: 0.9666 - val_loss: 0.0480 - val_categorical_accuracy: 0.9892\n",
      "Epoch 19/30\n",
      "47800/48000 [============================>.] - ETA: 0s - loss: 0.0856 - categorical_accuracy: 0.9681\n",
      "Epoch 00019: val_loss did not improve from 0.04540\n",
      "48000/48000 [==============================] - 97s 2ms/sample - loss: 0.0856 - categorical_accuracy: 0.9680 - val_loss: 0.0515 - val_categorical_accuracy: 0.9883\n"
     ]
    }
   ],
   "source": [
    "history = model.fit(x_train, y_train, validation_split=0.2, epochs=30, batch_size=200, callbacks=[chekpointer, early_stopping_cb])"
   ]
  },
  {
   "cell_type": "code",
   "execution_count": 17,
   "metadata": {},
   "outputs": [],
   "source": [
    "del model\n",
    "model = load_model('../model/mnist-cnn-09-0.0454.hdf5')"
   ]
  },
  {
   "cell_type": "code",
   "execution_count": 18,
   "metadata": {},
   "outputs": [
    {
     "data": {
      "text/plain": [
       "0.9872"
      ]
     },
     "execution_count": 18,
     "metadata": {},
     "output_type": "execute_result"
    }
   ],
   "source": [
    "model.evaluate(x_test, y_test, verbose=4)[1]"
   ]
  },
  {
   "cell_type": "code",
   "execution_count": 19,
   "metadata": {},
   "outputs": [],
   "source": [
    "y_vloss = history.history['val_loss']\n",
    "y_loss = history.history['loss']"
   ]
  },
  {
   "cell_type": "code",
   "execution_count": 20,
   "metadata": {},
   "outputs": [
    {
     "data": {
      "image/png": "[encoded data removed]",
      "text/plain": [
       "<Figure size 576x432 with 1 Axes>"
      ]
     },
     "metadata": {
      "needs_background": "light"
     },
     "output_type": "display_data"
    }
   ],
   "source": [
    "# 그래프로 표현\n",
    "x_len = np.arange(1, len(y_loss)+1)\n",
    "plt.figure(figsize=(8,6))\n",
    "plt.plot(x_len, y_vloss, marker='.', c=\"red\", label='Testset_loss')\n",
    "plt.plot(x_len, y_loss, marker='.', c=\"blue\", label='Trainset_loss')\n",
    "\n",
    "# 그래프에 그리드를 주고 레이블을 표시\n",
    "plt.legend(loc='upper right')\n",
    "# plt.axis([0, 20, 0, 0.35])\n",
    "plt.grid()\n",
    "plt.xlabel('epoch')\n",
    "plt.ylabel('loss')\n",
    "plt.show()"
   ]
  },
  {
   "cell_type": "code",
   "execution_count": null,
   "metadata": {},
   "outputs": [],
   "source": []
  }
 ],
 "metadata": {
  "kernelspec": {
   "display_name": "Python3-tf2",
   "language": "python",
   "name": "tf2"
  },
  "language_info": {
   "codemirror_mode": {
    "name": "ipython",
    "version": 3
   },
   "file_extension": ".py",
   "mimetype": "text/x-python",
   "name": "python",
   "nbconvert_exporter": "python",
   "pygments_lexer": "ipython3",
   "version": "3.7.7"
  }
 },
 "nbformat": 4,
 "nbformat_minor": 4
}
