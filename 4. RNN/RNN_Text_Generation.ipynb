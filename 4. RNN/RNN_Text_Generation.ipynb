{
 "cells": [
  {
   "cell_type": "code",
   "execution_count": 33,
   "metadata": {
    "colab": {},
    "colab_type": "code",
    "id": "lWimq_apD2Qt"
   },
   "outputs": [],
   "source": [
    "import numpy as np\n",
    "import tensorflow as tf"
   ]
  },
  {
   "cell_type": "code",
   "execution_count": 34,
   "metadata": {
    "colab": {
     "base_uri": "https://localhost:8080/",
     "height": 35
    },
    "colab_type": "code",
    "id": "5TjTx78lD8fq",
    "outputId": "3eba7f79-c94d-4940-a7c1-d7256f4cbf09"
   },
   "outputs": [],
   "source": [
    "from tensorflow import keras\n",
    "from keras.preprocessing.text import Tokenizer\n",
    "from keras.preprocessing.sequence import pad_sequences\n",
    "from keras.utils import to_categorical\n",
    "from keras.models import Sequential\n",
    "from keras.layers import Embedding, Dense, SimpleRNN"
   ]
  },
  {
   "cell_type": "code",
   "execution_count": 35,
   "metadata": {},
   "outputs": [
    {
     "data": {
      "text/plain": [
       "'2.1.0'"
      ]
     },
     "execution_count": 35,
     "metadata": {},
     "output_type": "execute_result"
    }
   ],
   "source": [
    "tf.__version__"
   ]
  },
  {
   "cell_type": "code",
   "execution_count": 37,
   "metadata": {},
   "outputs": [
    {
     "data": {
      "text/plain": [
       "'2.2.4-tf'"
      ]
     },
     "execution_count": 37,
     "metadata": {},
     "output_type": "execute_result"
    }
   ],
   "source": [
    "keras.__version__"
   ]
  },
  {
   "cell_type": "code",
   "execution_count": 36,
   "metadata": {
    "colab": {},
    "colab_type": "code",
    "id": "PbAKfb2jEJF1"
   },
   "outputs": [],
   "source": [
    "seed = 2020\n",
    "np.random.seed(seed)"
   ]
  },
  {
   "cell_type": "code",
   "execution_count": 4,
   "metadata": {
    "colab": {},
    "colab_type": "code",
    "id": "V0T3OzYSHGXr"
   },
   "outputs": [],
   "source": [
    "text = ''' 경마장에 있는 말이 뛰고 있다\\n\n",
    "그의 말이 법이다\\n\n",
    "가는 말이 고와야 오는 말이 곱다\\n'''"
   ]
  },
  {
   "cell_type": "code",
   "execution_count": 5,
   "metadata": {
    "colab": {},
    "colab_type": "code",
    "id": "es52rgiTHi-K"
   },
   "outputs": [],
   "source": [
    "t = Tokenizer()\n",
    "t.fit_on_texts([text])"
   ]
  },
  {
   "cell_type": "code",
   "execution_count": 6,
   "metadata": {
    "colab": {
     "base_uri": "https://localhost:8080/",
     "height": 215
    },
    "colab_type": "code",
    "id": "IHma518CHztw",
    "outputId": "421e77e8-f7ae-4219-816f-b245f8944eff"
   },
   "outputs": [
    {
     "data": {
      "text/plain": [
       "{'말이': 1,\n",
       " '경마장에': 2,\n",
       " '있는': 3,\n",
       " '뛰고': 4,\n",
       " '있다': 5,\n",
       " '그의': 6,\n",
       " '법이다': 7,\n",
       " '가는': 8,\n",
       " '고와야': 9,\n",
       " '오는': 10,\n",
       " '곱다': 11}"
      ]
     },
     "execution_count": 6,
     "metadata": {},
     "output_type": "execute_result"
    }
   ],
   "source": [
    "t.word_index"
   ]
  },
  {
   "cell_type": "code",
   "execution_count": 7,
   "metadata": {
    "colab": {
     "base_uri": "https://localhost:8080/",
     "height": 35
    },
    "colab_type": "code",
    "id": "0zR-vYUJICIX",
    "outputId": "75bfe37a-7cdb-42f7-df00-01c1b1abcb93"
   },
   "outputs": [
    {
     "name": "stdout",
     "output_type": "stream",
     "text": [
      "단어 집합의 크기 : 12\n"
     ]
    }
   ],
   "source": [
    "# 단어 집합 크기 설정\n",
    "vocab_size = len(t.word_index) + 1\n",
    "print('단어 집합의 크기 :', vocab_size)"
   ]
  },
  {
   "cell_type": "code",
   "execution_count": 8,
   "metadata": {
    "colab": {
     "base_uri": "https://localhost:8080/",
     "height": 35
    },
    "colab_type": "code",
    "id": "raHAhui7ILvo",
    "outputId": "a801f4cb-b3e4-41aa-93ba-6ee24d721cd8"
   },
   "outputs": [
    {
     "data": {
      "text/plain": [
       "[[6, 1, 7]]"
      ]
     },
     "execution_count": 8,
     "metadata": {},
     "output_type": "execute_result"
    }
   ],
   "source": [
    "t.texts_to_sequences(['그의 말이 법이다'])"
   ]
  },
  {
   "cell_type": "code",
   "execution_count": 9,
   "metadata": {
    "colab": {
     "base_uri": "https://localhost:8080/",
     "height": 233
    },
    "colab_type": "code",
    "id": "HpbKK7sWISjM",
    "outputId": "db9a2580-782f-4505-f8b6-24da4fec1bc5"
   },
   "outputs": [
    {
     "name": "stdout",
     "output_type": "stream",
     "text": [
      " 경마장에 있는 말이 뛰고 있다 [2, 3]\n",
      " 경마장에 있는 말이 뛰고 있다 [2, 3, 1]\n",
      " 경마장에 있는 말이 뛰고 있다 [2, 3, 1, 4]\n",
      " 경마장에 있는 말이 뛰고 있다 [2, 3, 1, 4, 5]\n",
      "그의 말이 법이다 [6, 1]\n",
      "그의 말이 법이다 [6, 1, 7]\n",
      "가는 말이 고와야 오는 말이 곱다 [8, 1]\n",
      "가는 말이 고와야 오는 말이 곱다 [8, 1, 9]\n",
      "가는 말이 고와야 오는 말이 곱다 [8, 1, 9, 10]\n",
      "가는 말이 고와야 오는 말이 곱다 [8, 1, 9, 10, 1]\n",
      "가는 말이 고와야 오는 말이 곱다 [8, 1, 9, 10, 1, 11]\n",
      "학습에 사용할 샘플의 개수:  11\n"
     ]
    }
   ],
   "source": [
    "sequences = []\n",
    "\n",
    "for line in text.split('\\n'):\n",
    "    encoded = t.texts_to_sequences([line])[0]\n",
    "    # print(line, encoded)\n",
    "    for i in range(1, len(encoded)):\n",
    "        print(line, encoded[:i+1])\n",
    "        sequence = encoded[:i+1]\n",
    "        sequences.append(sequence)\n",
    "\n",
    "print('학습에 사용할 샘플의 개수: ', len(sequences))"
   ]
  },
  {
   "cell_type": "code",
   "execution_count": 10,
   "metadata": {
    "colab": {
     "base_uri": "https://localhost:8080/",
     "height": 35
    },
    "colab_type": "code",
    "id": "QUdlG-s9JlaI",
    "outputId": "2246bc07-5fae-41ba-9eea-005773e3ce84"
   },
   "outputs": [
    {
     "name": "stdout",
     "output_type": "stream",
     "text": [
      "6\n"
     ]
    }
   ],
   "source": [
    "# 샘플에서 가장긴 샘플의 길이 (가는 말이 고와야 오는 말이 곱다.)\n",
    "max_len = max(len(s) for s in sequences)\n",
    "print(max_len)"
   ]
  },
  {
   "cell_type": "code",
   "execution_count": 11,
   "metadata": {
    "colab": {},
    "colab_type": "code",
    "id": "gU-BqJf8KGg_"
   },
   "outputs": [],
   "source": [
    "# 전체 샘플의 길이를 6(가장 긴 샘플의 길이)으로 패딩\n",
    "# 'pre' 옵션을 주면 앞을 0으로 패딩\n",
    "sequences = pad_sequences(sequences, max_len)"
   ]
  },
  {
   "cell_type": "code",
   "execution_count": 12,
   "metadata": {
    "colab": {
     "base_uri": "https://localhost:8080/",
     "height": 107
    },
    "colab_type": "code",
    "id": "uvDx7gwXJlXW",
    "outputId": "5333f7b2-e345-4640-a25a-7398b5cb147c"
   },
   "outputs": [
    {
     "data": {
      "text/plain": [
       "array([[0, 0, 0, 0, 2, 3],\n",
       "       [0, 0, 0, 2, 3, 1],\n",
       "       [0, 0, 2, 3, 1, 4],\n",
       "       [0, 2, 3, 1, 4, 5],\n",
       "       [0, 0, 0, 0, 6, 1]])"
      ]
     },
     "execution_count": 12,
     "metadata": {},
     "output_type": "execute_result"
    }
   ],
   "source": [
    "sequences[:5]"
   ]
  },
  {
   "cell_type": "code",
   "execution_count": 13,
   "metadata": {
    "colab": {},
    "colab_type": "code",
    "id": "KaT_u-CVJlBn"
   },
   "outputs": [],
   "source": [
    "X = sequences[:, :-1]\n",
    "Y = sequences[:, -1]"
   ]
  },
  {
   "cell_type": "code",
   "execution_count": 14,
   "metadata": {
    "colab": {
     "base_uri": "https://localhost:8080/",
     "height": 107
    },
    "colab_type": "code",
    "id": "dqyQqQ2dJk2_",
    "outputId": "3ac21e78-9ec4-4075-8a4a-edd5a2b3931a"
   },
   "outputs": [
    {
     "data": {
      "text/plain": [
       "array([[0, 0, 0, 0, 2],\n",
       "       [0, 0, 0, 2, 3],\n",
       "       [0, 0, 2, 3, 1],\n",
       "       [0, 2, 3, 1, 4],\n",
       "       [0, 0, 0, 0, 6]])"
      ]
     },
     "execution_count": 14,
     "metadata": {},
     "output_type": "execute_result"
    }
   ],
   "source": [
    "X[:5]"
   ]
  },
  {
   "cell_type": "code",
   "execution_count": 15,
   "metadata": {
    "colab": {},
    "colab_type": "code",
    "id": "Z9cen-F1KevW"
   },
   "outputs": [],
   "source": [
    "y = to_categorical(Y, vocab_size)"
   ]
  },
  {
   "cell_type": "code",
   "execution_count": 16,
   "metadata": {
    "colab": {
     "base_uri": "https://localhost:8080/",
     "height": 215
    },
    "colab_type": "code",
    "id": "r2PWMuBMKkJm",
    "outputId": "d751546a-c9ce-4ac5-c3dd-4313c1731032"
   },
   "outputs": [
    {
     "data": {
      "text/plain": [
       "array([[0., 0., 0., 1., 0., 0., 0., 0., 0., 0., 0., 0.],\n",
       "       [0., 1., 0., 0., 0., 0., 0., 0., 0., 0., 0., 0.],\n",
       "       [0., 0., 0., 0., 1., 0., 0., 0., 0., 0., 0., 0.],\n",
       "       [0., 0., 0., 0., 0., 1., 0., 0., 0., 0., 0., 0.],\n",
       "       [0., 1., 0., 0., 0., 0., 0., 0., 0., 0., 0., 0.],\n",
       "       [0., 0., 0., 0., 0., 0., 0., 1., 0., 0., 0., 0.],\n",
       "       [0., 1., 0., 0., 0., 0., 0., 0., 0., 0., 0., 0.],\n",
       "       [0., 0., 0., 0., 0., 0., 0., 0., 0., 1., 0., 0.],\n",
       "       [0., 0., 0., 0., 0., 0., 0., 0., 0., 0., 1., 0.],\n",
       "       [0., 1., 0., 0., 0., 0., 0., 0., 0., 0., 0., 0.],\n",
       "       [0., 0., 0., 0., 0., 0., 0., 0., 0., 0., 0., 1.]], dtype=float32)"
      ]
     },
     "execution_count": 16,
     "metadata": {},
     "output_type": "execute_result"
    }
   ],
   "source": [
    "y"
   ]
  },
  {
   "cell_type": "code",
   "execution_count": 17,
   "metadata": {
    "colab": {},
    "colab_type": "code",
    "id": "ss8pYQo_Kkce"
   },
   "outputs": [],
   "source": [
    "def setup_model(dim, rnn_units):\n",
    "    embedding = Embedding(vocab_size, dim, input_length=max_len-1)   # 레이블을 분리 했으므로 X의 길이는 5\n",
    "    rnn = SimpleRNN(rnn_units, return_sequences=True)\n",
    "    output = Dense(vocab_size, activation='softmax')\n",
    "\n",
    "    return embedding, rnn, output\n",
    "\n",
    "def call_model():\n",
    "    model = Sequential()\n",
    "    model.add(embedding)\n",
    "    model.add(rnn)\n",
    "    model.add(output)\n",
    "\n",
    "    return model"
   ]
  },
  {
   "cell_type": "code",
   "execution_count": 18,
   "metadata": {
    "colab": {},
    "colab_type": "code",
    "id": "6GF3R6gza307"
   },
   "outputs": [],
   "source": [
    "def call_model2(n, dim, rnn_units):\n",
    "    model = Sequential()\n",
    "    model.add(Embedding(vocab_size, dim, input_length=max_len-1))\n",
    "\n",
    "    for _ in range(n):\n",
    "        model.add(SimpleRNN(rnn_units, return_sequences=True))\n",
    "\n",
    "    model.add(Dense(vocab_size, activation='softmax'))\n",
    "\n",
    "    return model"
   ]
  },
  {
   "cell_type": "code",
   "execution_count": 19,
   "metadata": {
    "colab": {},
    "colab_type": "code",
    "id": "Oou5ikm9SdrS"
   },
   "outputs": [],
   "source": [
    "embedding, rnn, output = setup_model(10, 32)"
   ]
  },
  {
   "cell_type": "code",
   "execution_count": 20,
   "metadata": {
    "colab": {},
    "colab_type": "code",
    "id": "io9mBj8RLCtn"
   },
   "outputs": [],
   "source": [
    "model = call_model()"
   ]
  },
  {
   "cell_type": "code",
   "execution_count": 21,
   "metadata": {
    "colab": {
     "base_uri": "https://localhost:8080/",
     "height": 269
    },
    "colab_type": "code",
    "id": "WAUp9R6RLI-8",
    "outputId": "be7486f5-83dc-4970-a04f-e2e8b0cee76f"
   },
   "outputs": [
    {
     "name": "stdout",
     "output_type": "stream",
     "text": [
      "Model: \"sequential_1\"\n",
      "_________________________________________________________________\n",
      "Layer (type)                 Output Shape              Param #   \n",
      "=================================================================\n",
      "embedding_1 (Embedding)      (None, 5, 10)             120       \n",
      "_________________________________________________________________\n",
      "simple_rnn_1 (SimpleRNN)     (None, 5, 32)             1376      \n",
      "_________________________________________________________________\n",
      "dense_1 (Dense)              (None, 5, 12)             396       \n",
      "=================================================================\n",
      "Total params: 1,892\n",
      "Trainable params: 1,892\n",
      "Non-trainable params: 0\n",
      "_________________________________________________________________\n"
     ]
    }
   ],
   "source": [
    "model.summary()"
   ]
  },
  {
   "cell_type": "code",
   "execution_count": 22,
   "metadata": {
    "colab": {},
    "colab_type": "code",
    "id": "-rMAsGINNz_I"
   },
   "outputs": [],
   "source": [
    "model.compile(loss=keras.losses.categorical_crossentropy, optimizer='adam', metrics=['accuracy'])"
   ]
  },
  {
   "cell_type": "code",
   "execution_count": 38,
   "metadata": {
    "colab": {
     "base_uri": "https://localhost:8080/",
     "height": 73
    },
    "colab_type": "code",
    "id": "3rLWDoANLNU2",
    "outputId": "e0e3b710-8f7b-4c62-99e1-640074e7ffd0"
   },
   "outputs": [
    {
     "ename": "ValueError",
     "evalue": "Error when checking target: expected dense_1 to have 3 dimensions, but got array with shape (11, 12)",
     "output_type": "error",
     "traceback": [
      "\u001b[1;31m---------------------------------------------------------------------------\u001b[0m",
      "\u001b[1;31mValueError\u001b[0m                                Traceback (most recent call last)",
      "\u001b[1;32m<ipython-input-38-45872e79d9e1>\u001b[0m in \u001b[0;36m<module>\u001b[1;34m\u001b[0m\n\u001b[1;32m----> 1\u001b[1;33m \u001b[0mhistory\u001b[0m \u001b[1;33m=\u001b[0m \u001b[0mmodel\u001b[0m\u001b[1;33m.\u001b[0m\u001b[0mfit\u001b[0m\u001b[1;33m(\u001b[0m\u001b[0mX\u001b[0m\u001b[1;33m,\u001b[0m \u001b[0my\u001b[0m\u001b[1;33m,\u001b[0m \u001b[0mepochs\u001b[0m \u001b[1;33m=\u001b[0m \u001b[1;36m200\u001b[0m\u001b[1;33m,\u001b[0m \u001b[0mverbose\u001b[0m\u001b[1;33m=\u001b[0m\u001b[1;36m0\u001b[0m\u001b[1;33m)\u001b[0m\u001b[1;33m\u001b[0m\u001b[1;33m\u001b[0m\u001b[0m\n\u001b[0m",
      "\u001b[1;32mC:\\ProgramData\\Anaconda3\\envs\\tf\\lib\\site-packages\\keras\\engine\\training.py\u001b[0m in \u001b[0;36mfit\u001b[1;34m(self, x, y, batch_size, epochs, verbose, callbacks, validation_split, validation_data, shuffle, class_weight, sample_weight, initial_epoch, steps_per_epoch, validation_steps, validation_freq, max_queue_size, workers, use_multiprocessing, **kwargs)\u001b[0m\n\u001b[0;32m   1152\u001b[0m             \u001b[0msample_weight\u001b[0m\u001b[1;33m=\u001b[0m\u001b[0msample_weight\u001b[0m\u001b[1;33m,\u001b[0m\u001b[1;33m\u001b[0m\u001b[1;33m\u001b[0m\u001b[0m\n\u001b[0;32m   1153\u001b[0m             \u001b[0mclass_weight\u001b[0m\u001b[1;33m=\u001b[0m\u001b[0mclass_weight\u001b[0m\u001b[1;33m,\u001b[0m\u001b[1;33m\u001b[0m\u001b[1;33m\u001b[0m\u001b[0m\n\u001b[1;32m-> 1154\u001b[1;33m             batch_size=batch_size)\n\u001b[0m\u001b[0;32m   1155\u001b[0m \u001b[1;33m\u001b[0m\u001b[0m\n\u001b[0;32m   1156\u001b[0m         \u001b[1;31m# Prepare validation data.\u001b[0m\u001b[1;33m\u001b[0m\u001b[1;33m\u001b[0m\u001b[1;33m\u001b[0m\u001b[0m\n",
      "\u001b[1;32mC:\\ProgramData\\Anaconda3\\envs\\tf\\lib\\site-packages\\keras\\engine\\training.py\u001b[0m in \u001b[0;36m_standardize_user_data\u001b[1;34m(self, x, y, sample_weight, class_weight, check_array_lengths, batch_size)\u001b[0m\n\u001b[0;32m    619\u001b[0m                 \u001b[0mfeed_output_shapes\u001b[0m\u001b[1;33m,\u001b[0m\u001b[1;33m\u001b[0m\u001b[1;33m\u001b[0m\u001b[0m\n\u001b[0;32m    620\u001b[0m                 \u001b[0mcheck_batch_axis\u001b[0m\u001b[1;33m=\u001b[0m\u001b[1;32mFalse\u001b[0m\u001b[1;33m,\u001b[0m  \u001b[1;31m# Don't enforce the batch size.\u001b[0m\u001b[1;33m\u001b[0m\u001b[1;33m\u001b[0m\u001b[0m\n\u001b[1;32m--> 621\u001b[1;33m                 exception_prefix='target')\n\u001b[0m\u001b[0;32m    622\u001b[0m \u001b[1;33m\u001b[0m\u001b[0m\n\u001b[0;32m    623\u001b[0m             \u001b[1;31m# Generate sample-wise weight values given the `sample_weight` and\u001b[0m\u001b[1;33m\u001b[0m\u001b[1;33m\u001b[0m\u001b[1;33m\u001b[0m\u001b[0m\n",
      "\u001b[1;32mC:\\ProgramData\\Anaconda3\\envs\\tf\\lib\\site-packages\\keras\\engine\\training_utils.py\u001b[0m in \u001b[0;36mstandardize_input_data\u001b[1;34m(data, names, shapes, check_batch_axis, exception_prefix)\u001b[0m\n\u001b[0;32m    133\u001b[0m                         \u001b[1;34m': expected '\u001b[0m \u001b[1;33m+\u001b[0m \u001b[0mnames\u001b[0m\u001b[1;33m[\u001b[0m\u001b[0mi\u001b[0m\u001b[1;33m]\u001b[0m \u001b[1;33m+\u001b[0m \u001b[1;34m' to have '\u001b[0m \u001b[1;33m+\u001b[0m\u001b[1;33m\u001b[0m\u001b[1;33m\u001b[0m\u001b[0m\n\u001b[0;32m    134\u001b[0m                         \u001b[0mstr\u001b[0m\u001b[1;33m(\u001b[0m\u001b[0mlen\u001b[0m\u001b[1;33m(\u001b[0m\u001b[0mshape\u001b[0m\u001b[1;33m)\u001b[0m\u001b[1;33m)\u001b[0m \u001b[1;33m+\u001b[0m \u001b[1;34m' dimensions, but got array '\u001b[0m\u001b[1;33m\u001b[0m\u001b[1;33m\u001b[0m\u001b[0m\n\u001b[1;32m--> 135\u001b[1;33m                         'with shape ' + str(data_shape))\n\u001b[0m\u001b[0;32m    136\u001b[0m                 \u001b[1;32mif\u001b[0m \u001b[1;32mnot\u001b[0m \u001b[0mcheck_batch_axis\u001b[0m\u001b[1;33m:\u001b[0m\u001b[1;33m\u001b[0m\u001b[1;33m\u001b[0m\u001b[0m\n\u001b[0;32m    137\u001b[0m                     \u001b[0mdata_shape\u001b[0m \u001b[1;33m=\u001b[0m \u001b[0mdata_shape\u001b[0m\u001b[1;33m[\u001b[0m\u001b[1;36m1\u001b[0m\u001b[1;33m:\u001b[0m\u001b[1;33m]\u001b[0m\u001b[1;33m\u001b[0m\u001b[1;33m\u001b[0m\u001b[0m\n",
      "\u001b[1;31mValueError\u001b[0m: Error when checking target: expected dense_1 to have 3 dimensions, but got array with shape (11, 12)"
     ]
    }
   ],
   "source": [
    "history = model.fit(X, y, epochs = 200, verbose=0)"
   ]
  },
  {
   "cell_type": "code",
   "execution_count": null,
   "metadata": {
    "colab": {
     "base_uri": "https://localhost:8080/",
     "height": 35
    },
    "colab_type": "code",
    "id": "hABXsKjXOCMS",
    "outputId": "9609d356-309c-4802-f163-d841b6aaf106"
   },
   "outputs": [],
   "source": [
    "history.history['accuracy'][-1]"
   ]
  },
  {
   "cell_type": "markdown",
   "metadata": {
    "colab_type": "text",
    "id": "0lEQmP4VOTog"
   },
   "source": [
    "### 모델 검증"
   ]
  },
  {
   "cell_type": "code",
   "execution_count": null,
   "metadata": {
    "colab": {},
    "colab_type": "code",
    "id": "Thx5jQJgO8SR"
   },
   "outputs": [],
   "source": [
    "# n 몇 단어를 끄집어 낼것인가.\n",
    "def sentence_generation(model, t, current_word, n):\n",
    "    init_word = current_word\n",
    "    sentence = ''\n",
    "    for _ in range(n):\n",
    "        encoded = t.texts_to_sequences([current_word])[0]\n",
    "        encoded = pad_sequences([encoded], 5)\n",
    "\n",
    "        result = model.predict_classes(encoded, verbose=0)\n",
    "        for word, index in t.word_index.items():\n",
    "            if index == result:\n",
    "                break\n",
    "        current_word = current_word + ' ' + word\n",
    "        sentence = sentence + ' ' + word\n",
    "    \n",
    "    sentence = init_word + sentence\n",
    "\n",
    "    return sentence\n"
   ]
  },
  {
   "cell_type": "code",
   "execution_count": null,
   "metadata": {
    "colab": {
     "base_uri": "https://localhost:8080/",
     "height": 35
    },
    "colab_type": "code",
    "id": "52pMy-11P2UY",
    "outputId": "8ec05d0e-4e91-4405-f81d-22aa9b380ae4"
   },
   "outputs": [],
   "source": [
    "print(sentence_generation(model, t, '경마장에', 3))"
   ]
  },
  {
   "cell_type": "code",
   "execution_count": null,
   "metadata": {
    "colab": {
     "base_uri": "https://localhost:8080/",
     "height": 35
    },
    "colab_type": "code",
    "id": "pgFvDr2HP-MF",
    "outputId": "03d3afd6-1501-492a-b37d-d947c1dba136"
   },
   "outputs": [],
   "source": [
    "# 그의 단어 뒤에 1번째 단어를 예측\n",
    "print(sentence_generation(model, t, '그의', 2))"
   ]
  },
  {
   "cell_type": "code",
   "execution_count": null,
   "metadata": {
    "colab": {},
    "colab_type": "code",
    "id": "ydldnJQUQAl1"
   },
   "outputs": [],
   "source": [
    "embedding, rnn, output = setup_model(2, 32)"
   ]
  },
  {
   "cell_type": "code",
   "execution_count": null,
   "metadata": {
    "colab": {},
    "colab_type": "code",
    "id": "TsNhtRXuWNWX"
   },
   "outputs": [],
   "source": [
    "model2 = call_model(1)"
   ]
  },
  {
   "cell_type": "code",
   "execution_count": null,
   "metadata": {
    "colab": {
     "base_uri": "https://localhost:8080/",
     "height": 269
    },
    "colab_type": "code",
    "id": "X8nGWRmRWnxF",
    "outputId": "deb468b3-5fc3-4b9a-f524-7d4c78ce8dbf"
   },
   "outputs": [],
   "source": [
    "model2.summary()"
   ]
  },
  {
   "cell_type": "code",
   "execution_count": null,
   "metadata": {
    "colab": {},
    "colab_type": "code",
    "id": "87PexdtZWo0s"
   },
   "outputs": [],
   "source": [
    "model2.compile(loss=keras.losses.categorical_crossentropy, optimizer='adam', metrics=['accuracy'])"
   ]
  },
  {
   "cell_type": "code",
   "execution_count": null,
   "metadata": {
    "colab": {
     "base_uri": "https://localhost:8080/",
     "height": 73
    },
    "colab_type": "code",
    "id": "aeashpSFWyxU",
    "outputId": "6ab66c37-ef99-45ab-cb48-79b5f020630d"
   },
   "outputs": [],
   "source": [
    "history2 = model2.fit(X, y, epochs=200, verbose=0)"
   ]
  },
  {
   "cell_type": "code",
   "execution_count": null,
   "metadata": {
    "colab": {
     "base_uri": "https://localhost:8080/",
     "height": 35
    },
    "colab_type": "code",
    "id": "DTobdUC5W20M",
    "outputId": "2835b950-fe5b-43c1-8b06-e603a73d038f"
   },
   "outputs": [],
   "source": [
    "history2.history['accuracy'][-1]"
   ]
  },
  {
   "cell_type": "code",
   "execution_count": null,
   "metadata": {
    "colab": {
     "base_uri": "https://localhost:8080/",
     "height": 35
    },
    "colab_type": "code",
    "id": "oq_3N5XVW8En",
    "outputId": "ad547dc0-b66e-4e8b-96e8-a8631d3dacd1"
   },
   "outputs": [],
   "source": [
    "print(sentence_generation(model2, t, '경마장에', 3))"
   ]
  },
  {
   "cell_type": "code",
   "execution_count": null,
   "metadata": {
    "colab": {
     "base_uri": "https://localhost:8080/",
     "height": 35
    },
    "colab_type": "code",
    "id": "QuaB5VgeXBDk",
    "outputId": "7eddd0d0-2449-409f-9042-aa8fd89b2631"
   },
   "outputs": [],
   "source": [
    "print(sentence_generation(model2, t, '그의', 2))"
   ]
  },
  {
   "cell_type": "code",
   "execution_count": null,
   "metadata": {
    "colab": {
     "base_uri": "https://localhost:8080/",
     "height": 35
    },
    "colab_type": "code",
    "id": "L-jNrRc2XElk",
    "outputId": "35f2232f-48b3-4b54-f042-b9ff5b4cfc49"
   },
   "outputs": [],
   "source": [
    "print(sentence_generation(model2, t, '가는', 5))"
   ]
  },
  {
   "cell_type": "code",
   "execution_count": null,
   "metadata": {
    "colab": {
     "base_uri": "https://localhost:8080/",
     "height": 269
    },
    "colab_type": "code",
    "id": "XIJ1n8ZJXLrE",
    "outputId": "2492cf34-fe0d-4f98-c40c-1b095dc496aa"
   },
   "outputs": [],
   "source": [
    "embedding, rnn, output = setup_model(4, 32)\n",
    "model3  = call_model(1)\n",
    "model3.summary()\n",
    "model3.compile(loss=keras.losses.categorical_crossentropy, optimizer='adam', metrics=['accuracy'])"
   ]
  },
  {
   "cell_type": "code",
   "execution_count": null,
   "metadata": {
    "colab": {
     "base_uri": "https://localhost:8080/",
     "height": 73
    },
    "colab_type": "code",
    "id": "b9kfnOLCXxud",
    "outputId": "fa4f3044-97b8-4b1c-9c89-41fad093ab29"
   },
   "outputs": [],
   "source": [
    "history3 = model3.fit(X, y, epochs=200, verbose=0)"
   ]
  },
  {
   "cell_type": "code",
   "execution_count": null,
   "metadata": {
    "colab": {
     "base_uri": "https://localhost:8080/",
     "height": 35
    },
    "colab_type": "code",
    "id": "kA7yzhQMX5-k",
    "outputId": "7ec4c90c-1444-45c5-c5ff-34a99d4f2f51"
   },
   "outputs": [],
   "source": [
    "history3.history['accuracy'][-1]"
   ]
  },
  {
   "cell_type": "code",
   "execution_count": null,
   "metadata": {
    "colab": {
     "base_uri": "https://localhost:8080/",
     "height": 269
    },
    "colab_type": "code",
    "id": "VqWIVEdDX-AM",
    "outputId": "98008d02-34c2-43c1-bcdd-469850393308"
   },
   "outputs": [],
   "source": [
    "embedding, rnn, output = setup_model(6, 32)\n",
    "model4  = call_model(1)\n",
    "model4.summary()\n",
    "model4.compile(loss=keras.losses.categorical_crossentropy, optimizer='adam', metrics=['accuracy'])"
   ]
  },
  {
   "cell_type": "code",
   "execution_count": null,
   "metadata": {
    "colab": {
     "base_uri": "https://localhost:8080/",
     "height": 91
    },
    "colab_type": "code",
    "id": "6tFPMVCoYCqw",
    "outputId": "3ca7f5ad-8317-41cf-f665-7f57fb2e7f45"
   },
   "outputs": [],
   "source": [
    "history4 = model4.fit(X, y, epochs=200, verbose=0)\n",
    "history4.history['accuracy'][-1]"
   ]
  },
  {
   "cell_type": "code",
   "execution_count": null,
   "metadata": {
    "colab": {
     "base_uri": "https://localhost:8080/",
     "height": 269
    },
    "colab_type": "code",
    "id": "cvN6pmKeYCbM",
    "outputId": "bb3112fc-37b4-4890-d96f-5fc11eda8c9a"
   },
   "outputs": [],
   "source": [
    "embedding, rnn, output = setup_model(1, 32)\n",
    "model5  = call_model(1)\n",
    "model5.summary()\n",
    "model5.compile(loss=keras.losses.categorical_crossentropy, optimizer='adam', metrics=['accuracy'])"
   ]
  },
  {
   "cell_type": "code",
   "execution_count": null,
   "metadata": {
    "colab": {
     "base_uri": "https://localhost:8080/",
     "height": 91
    },
    "colab_type": "code",
    "id": "SRIOBTcUYJkN",
    "outputId": "016edd02-01bc-4f4a-8ae2-77543da65afc"
   },
   "outputs": [],
   "source": [
    "history5 = model5.fit(X, y, epochs=200, verbose=0)\n",
    "history5.history['accuracy'][-1]"
   ]
  },
  {
   "cell_type": "code",
   "execution_count": null,
   "metadata": {
    "colab": {
     "base_uri": "https://localhost:8080/",
     "height": 269
    },
    "colab_type": "code",
    "id": "nHZH-bhHYLgE",
    "outputId": "5e57f5e2-2a76-4de3-8026-fbc4341df060"
   },
   "outputs": [],
   "source": [
    "embedding, rnn, output = setup_model(2, 64)\n",
    "model6  = call_model(1)\n",
    "model6.summary()\n",
    "model6.compile(loss=keras.losses.categorical_crossentropy, optimizer='adam', metrics=['accuracy'])"
   ]
  },
  {
   "cell_type": "code",
   "execution_count": null,
   "metadata": {
    "colab": {
     "base_uri": "https://localhost:8080/",
     "height": 91
    },
    "colab_type": "code",
    "id": "l2lBFd6vYSjU",
    "outputId": "82fc62c8-01e0-4728-e9af-704e0c910c9f"
   },
   "outputs": [],
   "source": [
    "history6 = model6.fit(X, y, epochs=200, verbose=0)\n",
    "history6.history['accuracy'][-1]"
   ]
  },
  {
   "cell_type": "code",
   "execution_count": null,
   "metadata": {
    "colab": {
     "base_uri": "https://localhost:8080/",
     "height": 269
    },
    "colab_type": "code",
    "id": "RnRkAgGwYUy4",
    "outputId": "300a5df9-cc5f-493f-8a23-f9c1ae58c48b"
   },
   "outputs": [],
   "source": [
    "embedding, rnn, output = setup_model(2, 64)\n",
    "model7 = call_model(1)\n",
    "model7.summary()\n",
    "model7.compile(loss=keras.losses.categorical_crossentropy, optimizer='adam', metrics=['accuracy'])"
   ]
  },
  {
   "cell_type": "code",
   "execution_count": null,
   "metadata": {
    "colab": {
     "base_uri": "https://localhost:8080/",
     "height": 91
    },
    "colab_type": "code",
    "id": "PNlEIEMUZ5VH",
    "outputId": "a8dfe2fd-640b-46ad-b3b1-10684cf9ac9b"
   },
   "outputs": [],
   "source": [
    "history7 = model7.fit(X, y, epochs=200, verbose=0)\n",
    "history7.history['accuracy'][-1]"
   ]
  },
  {
   "cell_type": "code",
   "execution_count": null,
   "metadata": {
    "colab": {
     "base_uri": "https://localhost:8080/",
     "height": 269
    },
    "colab_type": "code",
    "id": "DvVZK7VeZ8GT",
    "outputId": "7223f5cb-30fd-4e72-d67e-faf565edfa37"
   },
   "outputs": [],
   "source": [
    "embedding, rnn, output = setup_model(2, 12)\n",
    "model8 = call_model(1)\n",
    "model8.summary()\n",
    "model8.compile(loss=keras.losses.categorical_crossentropy, optimizer='adam', metrics=['accuracy'])"
   ]
  },
  {
   "cell_type": "code",
   "execution_count": null,
   "metadata": {
    "colab": {
     "base_uri": "https://localhost:8080/",
     "height": 91
    },
    "colab_type": "code",
    "id": "81MUy1-JaSod",
    "outputId": "c16f77e1-1ff3-4675-8f83-bcf90dae6a6e"
   },
   "outputs": [],
   "source": [
    "history8 = model8.fit(X, y, epochs=200, verbose=0)\n",
    "history8.history['accuracy'][-1]"
   ]
  },
  {
   "cell_type": "code",
   "execution_count": null,
   "metadata": {
    "colab": {
     "base_uri": "https://localhost:8080/",
     "height": 361
    },
    "colab_type": "code",
    "id": "F-WGo-GAkcR7",
    "outputId": "fcb3fbc6-79dd-4499-c9b7-06935229dcbf"
   },
   "outputs": [],
   "source": [
    "model10 = Sequential()\n",
    "model10.add(Embedding(vocab_size, 4, input_length=max_len-1))\n",
    "model10.add(SimpleRNN(12, return_sequences=True))\n",
    "model10.add(SimpleRNN(12, return_sequences=False))\n",
    "model10.add(Dense(vocab_size, activation='softmax'))\n",
    "model10.summary()\n",
    "model10.compile(loss=keras.losses.categorical_crossentropy, optimizer='adam', metrics=['accuracy'])\n",
    "history10 = model10.fit(X, y, epochs=200, verbose=0)"
   ]
  },
  {
   "cell_type": "code",
   "execution_count": null,
   "metadata": {
    "colab": {
     "base_uri": "https://localhost:8080/",
     "height": 35
    },
    "colab_type": "code",
    "id": "6ckMjcmikyl7",
    "outputId": "11e975b9-e53a-476f-e45f-7c544f5f299d"
   },
   "outputs": [],
   "source": [
    "history10.history['accuracy'][-1]"
   ]
  },
  {
   "cell_type": "code",
   "execution_count": null,
   "metadata": {
    "colab": {
     "base_uri": "https://localhost:8080/",
     "height": 664
    },
    "colab_type": "code",
    "id": "fr9JRYJsaW50",
    "outputId": "6c0e6d96-0478-4540-e04d-377fbbb2b554"
   },
   "outputs": [],
   "source": [
    "model9 = call_model2(2, 2, 12)\n",
    "model9.summary()\n",
    "model9.compile(loss=keras.losses.categorical_crossentropy, optimizer='adam', metrics=['accuracy'])\n",
    "history9 = model9.fit(X, y, epochs=200, verbose=0)\n",
    "history9.history['accuracy'][-1]"
   ]
  },
  {
   "cell_type": "code",
   "execution_count": null,
   "metadata": {
    "colab": {},
    "colab_type": "code",
    "id": "TAHSOzuTkH6j"
   },
   "outputs": [],
   "source": []
  }
 ],
 "metadata": {
  "colab": {
   "collapsed_sections": [],
   "name": "RNN -  Text Generation.ipynb",
   "provenance": []
  },
  "kernelspec": {
   "display_name": "Python 3",
   "language": "python",
   "name": "python3"
  },
  "language_info": {
   "codemirror_mode": {
    "name": "ipython",
    "version": 3
   },
   "file_extension": ".py",
   "mimetype": "text/x-python",
   "name": "python",
   "nbconvert_exporter": "python",
   "pygments_lexer": "ipython3",
   "version": "3.7.1"
  }
 },
 "nbformat": 4,
 "nbformat_minor": 4
}
