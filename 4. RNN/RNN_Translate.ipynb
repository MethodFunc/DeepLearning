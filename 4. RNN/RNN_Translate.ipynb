{
 "cells": [
  {
   "cell_type": "code",
   "execution_count": 1,
   "metadata": {},
   "outputs": [],
   "source": [
    "import pandas as pd\n",
    "import tensorflow as tf\n",
    "import numpy as np\n",
    "import matplotlib.pyplot as plt\n",
    "import seaborn as sns"
   ]
  },
  {
   "cell_type": "code",
   "execution_count": 2,
   "metadata": {},
   "outputs": [],
   "source": [
    "from tensorflow import keras\n",
    "from string import punctuation"
   ]
  },
  {
   "cell_type": "code",
   "execution_count": 3,
   "metadata": {},
   "outputs": [],
   "source": [
    "lines = pd.read_csv('dataset/newyork/ArticlesMarch2018.csv')"
   ]
  },
  {
   "cell_type": "code",
   "execution_count": 4,
   "metadata": {},
   "outputs": [
    {
     "data": {
      "text/plain": [
       "False"
      ]
     },
     "execution_count": 4,
     "metadata": {},
     "output_type": "execute_result"
    }
   ],
   "source": [
    "lines['headline'].isnull().values.any()"
   ]
  },
  {
   "cell_type": "code",
   "execution_count": 5,
   "metadata": {
    "tags": []
   },
   "outputs": [
    {
     "name": "stdout",
     "output_type": "stream",
     "text": [
      "135\n"
     ]
    }
   ],
   "source": [
    "cnt = 0\n",
    "for line in lines['headline']:\n",
    "    if line == 'Unknown':\n",
    "        cnt += 1\n",
    "print(cnt)"
   ]
  },
  {
   "cell_type": "code",
   "execution_count": 6,
   "metadata": {},
   "outputs": [],
   "source": [
    "headline = [title for title in lines.headline.values if title != 'Unknown']"
   ]
  },
  {
   "cell_type": "code",
   "execution_count": 7,
   "metadata": {
    "tags": []
   },
   "outputs": [
    {
     "name": "stdout",
     "output_type": "stream",
     "text": [
      "0\n"
     ]
    }
   ],
   "source": [
    "cnt = 0\n",
    "for line in headline:\n",
    "    if line == 'Unknown':\n",
    "        cnt += 1\n",
    "print(cnt)"
   ]
  },
  {
   "cell_type": "code",
   "execution_count": 8,
   "metadata": {},
   "outputs": [],
   "source": [
    "def reprprocessing(s):\n",
    "    s = s.encode('utf8').decode('ascii', 'ignore')\n",
    "    return ''.join(c for c in s if c not in punctuation)"
   ]
  },
  {
   "cell_type": "code",
   "execution_count": 9,
   "metadata": {},
   "outputs": [],
   "source": [
    "text = [reprprocessing(x) for x in headline]"
   ]
  },
  {
   "cell_type": "code",
   "execution_count": 10,
   "metadata": {},
   "outputs": [
    {
     "data": {
      "text/plain": [
       "['US Advances Military Plans for North Korea',\n",
       " 'Mr Trump and the Very Bad Judge',\n",
       " 'To Erase Dissent China Bans Pooh Bear and N',\n",
       " 'Loans Flowed to Kushner Cos After Visits to the White House']"
      ]
     },
     "execution_count": 10,
     "metadata": {},
     "output_type": "execute_result"
    }
   ],
   "source": [
    "text[1:5]"
   ]
  },
  {
   "cell_type": "code",
   "execution_count": 11,
   "metadata": {},
   "outputs": [
    {
     "data": {
      "text/plain": [
       "3582"
      ]
     },
     "execution_count": 11,
     "metadata": {},
     "output_type": "execute_result"
    }
   ],
   "source": [
    "t = keras.preprocessing.text.Tokenizer()\n",
    "t.fit_on_texts(text)\n",
    "vocab_size = len(t.word_index) + 1\n",
    "vocab_size"
   ]
  },
  {
   "cell_type": "code",
   "execution_count": 12,
   "metadata": {},
   "outputs": [
    {
     "data": {
      "text/plain": [
       "[[1119, 1120],\n",
       " [1119, 1120, 116],\n",
       " [1119, 1120, 116, 1121],\n",
       " [31, 1122],\n",
       " [31, 1122, 589],\n",
       " [31, 1122, 589, 392],\n",
       " [31, 1122, 589, 392, 7],\n",
       " [31, 1122, 589, 392, 7, 61],\n",
       " [31, 1122, 589, 392, 7, 61, 70],\n",
       " [117, 10],\n",
       " [117, 10, 6]]"
      ]
     },
     "execution_count": 12,
     "metadata": {},
     "output_type": "execute_result"
    }
   ],
   "source": [
    "seqences = []\n",
    "for line in text:\n",
    "    encoded = t.texts_to_sequences([line])[0]\n",
    "    for i in range(1, len(encoded)):\n",
    "        seqence = encoded[:i+1]\n",
    "        seqences.append(seqence)\n",
    "seqences[:11]"
   ]
  },
  {
   "cell_type": "code",
   "execution_count": 13,
   "metadata": {},
   "outputs": [
    {
     "data": {
      "text/plain": [
       "('the', 'spending')"
      ]
     },
     "execution_count": 13,
     "metadata": {},
     "output_type": "execute_result"
    }
   ],
   "source": [
    "index_to_word = {}\n",
    "for key, value in t.word_index.items():\n",
    "    index_to_word[value] = key\n",
    "index_to_word[1], index_to_word[582]"
   ]
  },
  {
   "cell_type": "code",
   "execution_count": 14,
   "metadata": {},
   "outputs": [
    {
     "data": {
      "text/plain": [
       "18"
      ]
     },
     "execution_count": 14,
     "metadata": {},
     "output_type": "execute_result"
    }
   ],
   "source": [
    "max_len = max(len(s) for s in seqences)\n",
    "max_len"
   ]
  },
  {
   "cell_type": "code",
   "execution_count": 15,
   "metadata": {},
   "outputs": [],
   "source": [
    "seqences = keras.preprocessing.sequence.pad_sequences(seqences, max_len)"
   ]
  },
  {
   "cell_type": "code",
   "execution_count": 16,
   "metadata": {},
   "outputs": [],
   "source": [
    "X = seqences[:, :-1]\n",
    "Y = seqences[:, -1]\n",
    "y = keras.utils.to_categorical(Y, vocab_size)"
   ]
  },
  {
   "cell_type": "code",
   "execution_count": 17,
   "metadata": {},
   "outputs": [],
   "source": [
    "model = keras.models.Sequential([\n",
    "    keras.layers.Embedding(vocab_size, 10, input_length=max_len-1, name='Embedding_Layer'),\n",
    "    keras.layers.GRU(128, name='GRU_Layer'),\n",
    "    keras.layers.Dense(vocab_size, activation='softmax', name='Output')\n",
    "])"
   ]
  },
  {
   "cell_type": "code",
   "execution_count": 18,
   "metadata": {
    "tags": []
   },
   "outputs": [
    {
     "name": "stdout",
     "output_type": "stream",
     "text": [
      "Model: \"sequential\"\n",
      "_________________________________________________________________\n",
      "Layer (type)                 Output Shape              Param #   \n",
      "=================================================================\n",
      "Embedding_Layer (Embedding)  (None, 17, 10)            35820     \n",
      "_________________________________________________________________\n",
      "GRU_Layer (GRU)              (None, 128)               53760     \n",
      "_________________________________________________________________\n",
      "Output (Dense)               (None, 3582)              462078    \n",
      "=================================================================\n",
      "Total params: 551,658\n",
      "Trainable params: 551,658\n",
      "Non-trainable params: 0\n",
      "_________________________________________________________________\n"
     ]
    }
   ],
   "source": [
    "model.summary()"
   ]
  },
  {
   "cell_type": "code",
   "execution_count": 19,
   "metadata": {},
   "outputs": [],
   "source": [
    "model.compile('adam', 'categorical_crossentropy', ['accuracy'])"
   ]
  },
  {
   "cell_type": "code",
   "execution_count": 20,
   "metadata": {},
   "outputs": [
    {
     "name": "stdout",
     "output_type": "stream",
     "text": [
      "Train on 8057 samples\n",
      "Epoch 1/200\n",
      "8057/8057 [==============================] - 4s 463us/sample - loss: 7.7085 - accuracy: 0.0285\n",
      "Epoch 2/200\n",
      "8057/8057 [==============================] - 2s 280us/sample - loss: 7.1146 - accuracy: 0.0334\n",
      "Epoch 3/200\n",
      "8057/8057 [==============================] - 2s 280us/sample - loss: 6.9179 - accuracy: 0.0447\n",
      "Epoch 4/200\n",
      "8057/8057 [==============================] - 2s 280us/sample - loss: 6.7090 - accuracy: 0.0494\n",
      "Epoch 5/200\n",
      "8057/8057 [==============================] - 2s 281us/sample - loss: 6.4646 - accuracy: 0.0562\n",
      "Epoch 6/200\n",
      "8057/8057 [==============================] - 2s 280us/sample - loss: 6.1937 - accuracy: 0.0585\n",
      "Epoch 7/200\n",
      "8057/8057 [==============================] - 2s 280us/sample - loss: 5.9150 - accuracy: 0.0621\n",
      "Epoch 8/200\n",
      "8057/8057 [==============================] - 2s 280us/sample - loss: 5.6328 - accuracy: 0.0688\n",
      "Epoch 9/200\n",
      "8057/8057 [==============================] - 2s 282us/sample - loss: 5.3554 - accuracy: 0.0735\n",
      "Epoch 10/200\n",
      "8057/8057 [==============================] - 2s 282us/sample - loss: 5.0919 - accuracy: 0.0885\n",
      "Epoch 11/200\n",
      "8057/8057 [==============================] - 2s 281us/sample - loss: 4.8407 - accuracy: 0.1055\n",
      "Epoch 12/200\n",
      "8057/8057 [==============================] - 2s 283us/sample - loss: 4.6108 - accuracy: 0.1322\n",
      "Epoch 13/200\n",
      "8057/8057 [==============================] - 2s 282us/sample - loss: 4.3979 - accuracy: 0.1617\n",
      "Epoch 14/200\n",
      "8057/8057 [==============================] - 2s 282us/sample - loss: 4.2001 - accuracy: 0.1879\n",
      "Epoch 15/200\n",
      "8057/8057 [==============================] - 2s 282us/sample - loss: 4.0157 - accuracy: 0.2201\n",
      "Epoch 16/200\n",
      "8057/8057 [==============================] - 2s 281us/sample - loss: 3.8494 - accuracy: 0.2451\n",
      "Epoch 17/200\n",
      "8057/8057 [==============================] - 2s 282us/sample - loss: 3.6930 - accuracy: 0.2660\n",
      "Epoch 18/200\n",
      "8057/8057 [==============================] - 2s 282us/sample - loss: 3.5501 - accuracy: 0.2913\n",
      "Epoch 19/200\n",
      "8057/8057 [==============================] - 2s 281us/sample - loss: 3.4147 - accuracy: 0.3186\n",
      "Epoch 20/200\n",
      "8057/8057 [==============================] - 2s 282us/sample - loss: 3.2911 - accuracy: 0.3386\n",
      "Epoch 21/200\n",
      "8057/8057 [==============================] - 2s 281us/sample - loss: 3.1725 - accuracy: 0.3632\n",
      "Epoch 22/200\n",
      "8057/8057 [==============================] - 2s 282us/sample - loss: 3.0628 - accuracy: 0.3812\n",
      "Epoch 23/200\n",
      "8057/8057 [==============================] - 2s 282us/sample - loss: 2.9541 - accuracy: 0.4035\n",
      "Epoch 24/200\n",
      "8057/8057 [==============================] - 2s 283us/sample - loss: 2.8557 - accuracy: 0.4189\n",
      "Epoch 25/200\n",
      "8057/8057 [==============================] - 2s 282us/sample - loss: 2.7542 - accuracy: 0.4389\n",
      "Epoch 26/200\n",
      "8057/8057 [==============================] - 2s 282us/sample - loss: 2.6656 - accuracy: 0.4566\n",
      "Epoch 27/200\n",
      "8057/8057 [==============================] - 2s 281us/sample - loss: 2.5766 - accuracy: 0.4728\n",
      "Epoch 28/200\n",
      "8057/8057 [==============================] - 2s 282us/sample - loss: 2.4907 - accuracy: 0.4921\n",
      "Epoch 29/200\n",
      "8057/8057 [==============================] - 2s 281us/sample - loss: 2.4057 - accuracy: 0.5081\n",
      "Epoch 30/200\n",
      "8057/8057 [==============================] - 2s 283us/sample - loss: 2.3263 - accuracy: 0.5222\n",
      "Epoch 31/200\n",
      "8057/8057 [==============================] - 2s 282us/sample - loss: 2.2509 - accuracy: 0.5327\n",
      "Epoch 32/200\n",
      "8057/8057 [==============================] - 2s 282us/sample - loss: 2.1736 - accuracy: 0.5552\n",
      "Epoch 33/200\n",
      "8057/8057 [==============================] - 2s 289us/sample - loss: 2.0962 - accuracy: 0.5649\n",
      "Epoch 34/200\n",
      "8057/8057 [==============================] - 2s 282us/sample - loss: 2.0292 - accuracy: 0.5779\n",
      "Epoch 35/200\n",
      "8057/8057 [==============================] - 2s 283us/sample - loss: 1.9598 - accuracy: 0.5981\n",
      "Epoch 36/200\n",
      "8057/8057 [==============================] - 2s 283us/sample - loss: 1.8950 - accuracy: 0.6092\n",
      "Epoch 37/200\n",
      "8057/8057 [==============================] - 2s 284us/sample - loss: 1.8292 - accuracy: 0.6233\n",
      "Epoch 38/200\n",
      "8057/8057 [==============================] - 2s 282us/sample - loss: 1.7633 - accuracy: 0.6329\n",
      "Epoch 39/200\n",
      "8057/8057 [==============================] - 2s 283us/sample - loss: 1.7034 - accuracy: 0.6500\n",
      "Epoch 40/200\n",
      "8057/8057 [==============================] - 2s 282us/sample - loss: 1.6407 - accuracy: 0.6622\n",
      "Epoch 41/200\n",
      "8057/8057 [==============================] - 2s 282us/sample - loss: 1.5802 - accuracy: 0.6732\n",
      "Epoch 42/200\n",
      "8057/8057 [==============================] - 2s 282us/sample - loss: 1.5283 - accuracy: 0.6846\n",
      "Epoch 43/200\n",
      "8057/8057 [==============================] - 2s 283us/sample - loss: 1.4693 - accuracy: 0.6980\n",
      "Epoch 44/200\n",
      "8057/8057 [==============================] - 2s 285us/sample - loss: 1.4167 - accuracy: 0.7056\n",
      "Epoch 45/200\n",
      "8057/8057 [==============================] - 2s 281us/sample - loss: 1.3641 - accuracy: 0.7224\n",
      "Epoch 46/200\n",
      "8057/8057 [==============================] - 2s 283us/sample - loss: 1.3150 - accuracy: 0.7333\n",
      "Epoch 47/200\n",
      "8057/8057 [==============================] - 2s 282us/sample - loss: 1.2620 - accuracy: 0.7400\n",
      "Epoch 48/200\n",
      "8057/8057 [==============================] - 2s 283us/sample - loss: 1.2181 - accuracy: 0.7534\n",
      "Epoch 49/200\n",
      "8057/8057 [==============================] - 2s 283us/sample - loss: 1.1756 - accuracy: 0.7591\n",
      "Epoch 50/200\n",
      "8057/8057 [==============================] - 2s 283us/sample - loss: 1.1260 - accuracy: 0.7674\n",
      "Epoch 51/200\n",
      "8057/8057 [==============================] - 2s 283us/sample - loss: 1.0856 - accuracy: 0.7752\n",
      "Epoch 52/200\n",
      "8057/8057 [==============================] - 2s 282us/sample - loss: 1.0409 - accuracy: 0.7895\n",
      "Epoch 53/200\n",
      "8057/8057 [==============================] - 2s 281us/sample - loss: 1.0014 - accuracy: 0.7909\n",
      "Epoch 54/200\n",
      "8057/8057 [==============================] - 2s 281us/sample - loss: 0.9636 - accuracy: 0.8029\n",
      "Epoch 55/200\n",
      "8057/8057 [==============================] - 2s 283us/sample - loss: 0.9235 - accuracy: 0.8130\n",
      "Epoch 56/200\n",
      "8057/8057 [==============================] - 2s 282us/sample - loss: 0.8914 - accuracy: 0.8184\n",
      "Epoch 57/200\n",
      "8057/8057 [==============================] - 2s 284us/sample - loss: 0.8656 - accuracy: 0.8213\n",
      "Epoch 58/200\n",
      "8057/8057 [==============================] - 2s 283us/sample - loss: 0.8364 - accuracy: 0.8275\n",
      "Epoch 59/200\n",
      "8057/8057 [==============================] - 2s 283us/sample - loss: 0.7954 - accuracy: 0.8378\n",
      "Epoch 60/200\n",
      "8057/8057 [==============================] - 2s 282us/sample - loss: 0.7673 - accuracy: 0.8399\n",
      "Epoch 61/200\n",
      "8057/8057 [==============================] - 2s 283us/sample - loss: 0.7427 - accuracy: 0.8414\n",
      "Epoch 62/200\n",
      "8057/8057 [==============================] - 2s 284us/sample - loss: 0.7190 - accuracy: 0.8504\n",
      "Epoch 63/200\n",
      "8057/8057 [==============================] - 2s 285us/sample - loss: 0.6941 - accuracy: 0.8557\n",
      "Epoch 64/200\n",
      "8057/8057 [==============================] - 2s 284us/sample - loss: 0.6775 - accuracy: 0.8576\n",
      "Epoch 65/200\n",
      "8057/8057 [==============================] - 2s 286us/sample - loss: 0.6426 - accuracy: 0.8629\n",
      "Epoch 66/200\n",
      "8057/8057 [==============================] - 2s 284us/sample - loss: 0.6207 - accuracy: 0.8686\n",
      "Epoch 67/200\n",
      "8057/8057 [==============================] - 2s 285us/sample - loss: 0.6150 - accuracy: 0.8672\n",
      "Epoch 68/200\n",
      "8057/8057 [==============================] - 2s 284us/sample - loss: 0.5967 - accuracy: 0.8730\n",
      "Epoch 69/200\n",
      "8057/8057 [==============================] - 2s 286us/sample - loss: 0.5712 - accuracy: 0.8763\n",
      "Epoch 70/200\n",
      "8057/8057 [==============================] - 2s 288us/sample - loss: 0.5575 - accuracy: 0.8795\n",
      "Epoch 71/200\n",
      "8057/8057 [==============================] - 2s 287us/sample - loss: 0.5327 - accuracy: 0.8859\n",
      "Epoch 72/200\n",
      "8057/8057 [==============================] - 2s 287us/sample - loss: 0.5138 - accuracy: 0.8867\n",
      "Epoch 73/200\n",
      "8057/8057 [==============================] - 2s 287us/sample - loss: 0.5033 - accuracy: 0.8893\n",
      "Epoch 74/200\n",
      "8057/8057 [==============================] - 2s 287us/sample - loss: 0.5076 - accuracy: 0.8867\n",
      "Epoch 75/200\n",
      "8057/8057 [==============================] - 2s 289us/sample - loss: 0.5000 - accuracy: 0.8904\n",
      "Epoch 76/200\n",
      "8057/8057 [==============================] - 2s 289us/sample - loss: 0.4693 - accuracy: 0.8956\n",
      "Epoch 77/200\n",
      "8057/8057 [==============================] - 2s 288us/sample - loss: 0.4532 - accuracy: 0.8992\n",
      "Epoch 78/200\n",
      "8057/8057 [==============================] - 2s 289us/sample - loss: 0.4398 - accuracy: 0.8998\n",
      "Epoch 79/200\n",
      "8057/8057 [==============================] - 2s 289us/sample - loss: 0.4288 - accuracy: 0.8993\n",
      "Epoch 80/200\n",
      "8057/8057 [==============================] - 2s 289us/sample - loss: 0.4200 - accuracy: 0.9012\n",
      "Epoch 81/200\n",
      "8057/8057 [==============================] - 2s 289us/sample - loss: 0.4138 - accuracy: 0.9026\n",
      "Epoch 82/200\n",
      "8057/8057 [==============================] - 2s 289us/sample - loss: 0.4142 - accuracy: 0.9036\n",
      "Epoch 83/200\n",
      "8057/8057 [==============================] - 2s 290us/sample - loss: 0.4107 - accuracy: 0.9034\n",
      "Epoch 84/200\n",
      "8057/8057 [==============================] - 2s 290us/sample - loss: 0.4197 - accuracy: 0.8997\n",
      "Epoch 85/200\n",
      "8057/8057 [==============================] - 2s 289us/sample - loss: 0.4110 - accuracy: 0.9023\n",
      "Epoch 86/200\n",
      "8057/8057 [==============================] - 2s 288us/sample - loss: 0.3934 - accuracy: 0.9053\n",
      "Epoch 87/200\n",
      "8057/8057 [==============================] - 2s 291us/sample - loss: 0.3884 - accuracy: 0.9048\n",
      "Epoch 88/200\n",
      "8057/8057 [==============================] - 2s 289us/sample - loss: 0.3664 - accuracy: 0.9058\n",
      "Epoch 89/200\n",
      "8057/8057 [==============================] - 2s 288us/sample - loss: 0.3606 - accuracy: 0.9046\n",
      "Epoch 90/200\n",
      "8057/8057 [==============================] - 2s 289us/sample - loss: 0.3564 - accuracy: 0.9062\n",
      "Epoch 91/200\n",
      "8057/8057 [==============================] - 2s 290us/sample - loss: 0.3519 - accuracy: 0.9084\n",
      "Epoch 92/200\n",
      "8057/8057 [==============================] - 2s 289us/sample - loss: 0.3486 - accuracy: 0.9073\n",
      "Epoch 93/200\n",
      "8057/8057 [==============================] - 2s 288us/sample - loss: 0.3452 - accuracy: 0.9077\n",
      "Epoch 94/200\n",
      "8057/8057 [==============================] - 2s 289us/sample - loss: 0.3482 - accuracy: 0.9072\n",
      "Epoch 95/200\n",
      "8057/8057 [==============================] - 2s 288us/sample - loss: 0.3491 - accuracy: 0.9073\n",
      "Epoch 96/200\n",
      "8057/8057 [==============================] - 2s 291us/sample - loss: 0.3492 - accuracy: 0.9063\n",
      "Epoch 97/200\n",
      "8057/8057 [==============================] - 2s 292us/sample - loss: 0.3773 - accuracy: 0.8997\n",
      "Epoch 98/200\n",
      "8057/8057 [==============================] - 2s 304us/sample - loss: 0.3649 - accuracy: 0.9026\n",
      "Epoch 99/200\n",
      "8057/8057 [==============================] - 2s 294us/sample - loss: 0.3409 - accuracy: 0.9073\n",
      "Epoch 100/200\n",
      "8057/8057 [==============================] - 3s 325us/sample - loss: 0.3281 - accuracy: 0.9078\n",
      "Epoch 101/200\n",
      "8057/8057 [==============================] - 2s 306us/sample - loss: 0.3241 - accuracy: 0.9068\n",
      "Epoch 102/200\n",
      "8057/8057 [==============================] - 3s 311us/sample - loss: 0.3210 - accuracy: 0.9070\n",
      "Epoch 103/200\n",
      "8057/8057 [==============================] - 2s 302us/sample - loss: 0.3194 - accuracy: 0.9083\n",
      "Epoch 104/200\n",
      "8057/8057 [==============================] - 2s 296us/sample - loss: 0.3164 - accuracy: 0.9089\n",
      "Epoch 105/200\n",
      "8057/8057 [==============================] - 2s 289us/sample - loss: 0.3150 - accuracy: 0.9075\n",
      "Epoch 106/200\n",
      "8057/8057 [==============================] - 2s 293us/sample - loss: 0.3167 - accuracy: 0.9088\n",
      "Epoch 107/200\n",
      "8057/8057 [==============================] - 2s 294us/sample - loss: 0.3148 - accuracy: 0.9062\n",
      "Epoch 108/200\n",
      "8057/8057 [==============================] - 2s 300us/sample - loss: 0.3104 - accuracy: 0.9085\n",
      "Epoch 109/200\n",
      "8057/8057 [==============================] - 2s 293us/sample - loss: 0.3111 - accuracy: 0.9065\n",
      "Epoch 110/200\n",
      "8057/8057 [==============================] - 2s 295us/sample - loss: 0.3334 - accuracy: 0.9047\n",
      "Epoch 111/200\n",
      "8057/8057 [==============================] - 3s 314us/sample - loss: 0.3782 - accuracy: 0.8949\n",
      "Epoch 112/200\n",
      "8057/8057 [==============================] - 2s 297us/sample - loss: 0.4007 - accuracy: 0.8903\n",
      "Epoch 113/200\n",
      "8057/8057 [==============================] - 2s 295us/sample - loss: 0.3461 - accuracy: 0.9037\n",
      "Epoch 114/200\n",
      "8057/8057 [==============================] - 2s 294us/sample - loss: 0.3205 - accuracy: 0.9057\n",
      "Epoch 115/200\n",
      "8057/8057 [==============================] - 2s 298us/sample - loss: 0.3093 - accuracy: 0.9077\n",
      "Epoch 116/200\n",
      "8057/8057 [==============================] - 2s 295us/sample - loss: 0.3040 - accuracy: 0.9068\n",
      "Epoch 117/200\n",
      "8057/8057 [==============================] - 2s 294us/sample - loss: 0.3018 - accuracy: 0.9070\n",
      "Epoch 118/200\n",
      "8057/8057 [==============================] - 2s 303us/sample - loss: 0.3021 - accuracy: 0.9072\n",
      "Epoch 119/200\n",
      "8057/8057 [==============================] - 2s 295us/sample - loss: 0.2999 - accuracy: 0.9079\n",
      "Epoch 120/200\n",
      "8057/8057 [==============================] - 2s 295us/sample - loss: 0.2998 - accuracy: 0.9084\n",
      "Epoch 121/200\n",
      "8057/8057 [==============================] - 2s 296us/sample - loss: 0.3001 - accuracy: 0.9080\n",
      "Epoch 122/200\n",
      "8057/8057 [==============================] - 2s 292us/sample - loss: 0.3009 - accuracy: 0.9089\n",
      "Epoch 123/200\n",
      "8057/8057 [==============================] - 2s 291us/sample - loss: 0.3015 - accuracy: 0.9065\n",
      "Epoch 124/200\n",
      "8057/8057 [==============================] - 2s 293us/sample - loss: 0.3015 - accuracy: 0.9084\n",
      "Epoch 125/200\n",
      "8057/8057 [==============================] - 2s 301us/sample - loss: 0.3019 - accuracy: 0.9090\n",
      "Epoch 126/200\n",
      "8057/8057 [==============================] - 2s 296us/sample - loss: 0.3001 - accuracy: 0.9083\n",
      "Epoch 127/200\n",
      "8057/8057 [==============================] - 2s 294us/sample - loss: 0.2990 - accuracy: 0.9075\n",
      "Epoch 128/200\n",
      "8057/8057 [==============================] - 2s 302us/sample - loss: 0.2992 - accuracy: 0.9064\n",
      "Epoch 129/200\n",
      "8057/8057 [==============================] - 2s 300us/sample - loss: 0.2979 - accuracy: 0.9083\n",
      "Epoch 130/200\n",
      "8057/8057 [==============================] - 2s 306us/sample - loss: 0.3080 - accuracy: 0.9059\n",
      "Epoch 131/200\n",
      "8057/8057 [==============================] - 2s 302us/sample - loss: 0.3318 - accuracy: 0.9031\n",
      "Epoch 132/200\n",
      "8057/8057 [==============================] - 2s 297us/sample - loss: 0.3702 - accuracy: 0.8951\n",
      "Epoch 133/200\n",
      "8057/8057 [==============================] - 2s 297us/sample - loss: 0.3481 - accuracy: 0.8988\n",
      "Epoch 134/200\n",
      "8057/8057 [==============================] - 2s 296us/sample - loss: 0.3076 - accuracy: 0.9063\n",
      "Epoch 135/200\n",
      "8057/8057 [==============================] - 2s 297us/sample - loss: 0.2969 - accuracy: 0.9088\n",
      "Epoch 136/200\n",
      "8057/8057 [==============================] - 2s 300us/sample - loss: 0.3011 - accuracy: 0.9063\n",
      "Epoch 137/200\n",
      "8057/8057 [==============================] - 2s 299us/sample - loss: 0.2946 - accuracy: 0.9073\n",
      "Epoch 138/200\n",
      "8057/8057 [==============================] - 2s 300us/sample - loss: 0.2901 - accuracy: 0.9100\n",
      "Epoch 139/200\n",
      "8057/8057 [==============================] - 2s 298us/sample - loss: 0.2914 - accuracy: 0.9083\n",
      "Epoch 140/200\n",
      "8057/8057 [==============================] - ETA: 0s - loss: 0.2910 - accuracy: 0.90 - 2s 299us/sample - loss: 0.2906 - accuracy: 0.9100\n",
      "Epoch 141/200\n",
      "8057/8057 [==============================] - 2s 301us/sample - loss: 0.2917 - accuracy: 0.9082\n",
      "Epoch 142/200\n",
      "8057/8057 [==============================] - 2s 301us/sample - loss: 0.2913 - accuracy: 0.9074\n",
      "Epoch 143/200\n",
      "8057/8057 [==============================] - 2s 297us/sample - loss: 0.2917 - accuracy: 0.9085\n",
      "Epoch 144/200\n",
      "8057/8057 [==============================] - 2s 300us/sample - loss: 0.2918 - accuracy: 0.9075\n",
      "Epoch 145/200\n",
      "8057/8057 [==============================] - 2s 302us/sample - loss: 0.2923 - accuracy: 0.9067\n",
      "Epoch 146/200\n",
      "8057/8057 [==============================] - 2s 300us/sample - loss: 0.2968 - accuracy: 0.9059\n",
      "Epoch 147/200\n",
      "8057/8057 [==============================] - 2s 299us/sample - loss: 0.3061 - accuracy: 0.9049\n",
      "Epoch 148/200\n",
      "8057/8057 [==============================] - 2s 298us/sample - loss: 0.2987 - accuracy: 0.9077\n",
      "Epoch 149/200\n",
      "8057/8057 [==============================] - 2s 295us/sample - loss: 0.2980 - accuracy: 0.9070\n",
      "Epoch 150/200\n",
      "8057/8057 [==============================] - 2s 299us/sample - loss: 0.2990 - accuracy: 0.9084 - loss: 0.2958 \n",
      "Epoch 151/200\n",
      "8057/8057 [==============================] - 2s 297us/sample - loss: 0.2942 - accuracy: 0.9068\n",
      "Epoch 152/200\n",
      "8057/8057 [==============================] - 2s 298us/sample - loss: 0.2907 - accuracy: 0.9082\n",
      "Epoch 153/200\n",
      "8057/8057 [==============================] - 2s 301us/sample - loss: 0.2915 - accuracy: 0.9073\n",
      "Epoch 154/200\n",
      "8057/8057 [==============================] - 2s 298us/sample - loss: 0.3135 - accuracy: 0.9053\n",
      "Epoch 155/200\n",
      "8057/8057 [==============================] - 2s 297us/sample - loss: 0.3114 - accuracy: 0.9034\n",
      "Epoch 156/200\n",
      "8057/8057 [==============================] - 2s 301us/sample - loss: 0.2975 - accuracy: 0.9077\n",
      "Epoch 157/200\n",
      "8057/8057 [==============================] - 2s 297us/sample - loss: 0.2926 - accuracy: 0.9051\n",
      "Epoch 158/200\n",
      "8057/8057 [==============================] - 2s 295us/sample - loss: 0.2905 - accuracy: 0.9084\n",
      "Epoch 159/200\n",
      "8057/8057 [==============================] - 2s 297us/sample - loss: 0.2887 - accuracy: 0.9073\n",
      "Epoch 160/200\n",
      "8057/8057 [==============================] - 2s 301us/sample - loss: 0.2868 - accuracy: 0.9090\n",
      "Epoch 161/200\n",
      "8057/8057 [==============================] - 2s 295us/sample - loss: 0.2888 - accuracy: 0.9072\n",
      "Epoch 162/200\n",
      "8057/8057 [==============================] - 2s 300us/sample - loss: 0.2898 - accuracy: 0.9074\n",
      "Epoch 163/200\n",
      "8057/8057 [==============================] - 2s 298us/sample - loss: 0.2890 - accuracy: 0.9074\n",
      "Epoch 164/200\n",
      "8057/8057 [==============================] - 2s 301us/sample - loss: 0.2893 - accuracy: 0.9090\n",
      "Epoch 165/200\n",
      "8057/8057 [==============================] - 2s 299us/sample - loss: 0.2898 - accuracy: 0.9072\n",
      "Epoch 166/200\n",
      "8057/8057 [==============================] - 2s 300us/sample - loss: 0.2887 - accuracy: 0.9068\n",
      "Epoch 167/200\n",
      "8057/8057 [==============================] - 2s 298us/sample - loss: 0.2884 - accuracy: 0.9058\n",
      "Epoch 168/200\n",
      "8057/8057 [==============================] - 2s 299us/sample - loss: 0.2858 - accuracy: 0.9077\n",
      "Epoch 169/200\n",
      "8057/8057 [==============================] - 2s 300us/sample - loss: 0.2867 - accuracy: 0.9085\n",
      "Epoch 170/200\n",
      "8057/8057 [==============================] - 2s 302us/sample - loss: 0.2938 - accuracy: 0.9079\n",
      "Epoch 171/200\n",
      "8057/8057 [==============================] - 2s 300us/sample - loss: 0.3623 - accuracy: 0.8921\n",
      "Epoch 172/200\n",
      "8057/8057 [==============================] - 2s 303us/sample - loss: 0.3357 - accuracy: 0.8991\n",
      "Epoch 173/200\n",
      "8057/8057 [==============================] - 2s 301us/sample - loss: 0.3171 - accuracy: 0.9015\n",
      "Epoch 174/200\n",
      "8057/8057 [==============================] - 2s 306us/sample - loss: 0.2935 - accuracy: 0.9069\n",
      "Epoch 175/200\n",
      "8057/8057 [==============================] - 2s 304us/sample - loss: 0.2868 - accuracy: 0.9074\n",
      "Epoch 176/200\n",
      "8057/8057 [==============================] - 2s 301us/sample - loss: 0.2864 - accuracy: 0.9072\n",
      "Epoch 177/200\n",
      "8057/8057 [==============================] - 2s 300us/sample - loss: 0.2849 - accuracy: 0.9073\n",
      "Epoch 178/200\n",
      "8057/8057 [==============================] - 2s 306us/sample - loss: 0.2846 - accuracy: 0.9059\n",
      "Epoch 179/200\n",
      "8057/8057 [==============================] - 2s 306us/sample - loss: 0.2846 - accuracy: 0.9074\n",
      "Epoch 180/200\n",
      "8057/8057 [==============================] - 2s 305us/sample - loss: 0.2846 - accuracy: 0.9072\n",
      "Epoch 181/200\n",
      "8057/8057 [==============================] - 2s 304us/sample - loss: 0.2849 - accuracy: 0.9082\n",
      "Epoch 182/200\n",
      "8057/8057 [==============================] - 2s 305us/sample - loss: 0.2850 - accuracy: 0.9072\n",
      "Epoch 183/200\n",
      "8057/8057 [==============================] - 2s 303us/sample - loss: 0.2831 - accuracy: 0.9083\n",
      "Epoch 184/200\n",
      "8057/8057 [==============================] - 2s 299us/sample - loss: 0.2851 - accuracy: 0.9089\n",
      "Epoch 185/200\n",
      "8057/8057 [==============================] - 2s 299us/sample - loss: 0.2844 - accuracy: 0.9087\n",
      "Epoch 186/200\n",
      "8057/8057 [==============================] - 2s 298us/sample - loss: 0.2850 - accuracy: 0.9082\n",
      "Epoch 187/200\n",
      "8057/8057 [==============================] - 2s 300us/sample - loss: 0.2879 - accuracy: 0.9069\n",
      "Epoch 188/200\n",
      "8057/8057 [==============================] - 2s 306us/sample - loss: 0.3281 - accuracy: 0.8985\n",
      "Epoch 189/200\n",
      "8057/8057 [==============================] - 2s 308us/sample - loss: 0.3732 - accuracy: 0.8888\n",
      "Epoch 190/200\n",
      "8057/8057 [==============================] - 2s 302us/sample - loss: 0.3292 - accuracy: 0.9006\n",
      "Epoch 191/200\n",
      "8057/8057 [==============================] - 2s 301us/sample - loss: 0.2943 - accuracy: 0.9054\n",
      "Epoch 192/200\n",
      "8057/8057 [==============================] - 2s 302us/sample - loss: 0.2858 - accuracy: 0.9074\n",
      "Epoch 193/200\n",
      "8057/8057 [==============================] - 2s 307us/sample - loss: 0.2842 - accuracy: 0.9080\n",
      "Epoch 194/200\n",
      "8057/8057 [==============================] - 2s 304us/sample - loss: 0.2832 - accuracy: 0.9090\n",
      "Epoch 195/200\n",
      "8057/8057 [==============================] - 2s 309us/sample - loss: 0.2832 - accuracy: 0.9069\n",
      "Epoch 196/200\n",
      "8057/8057 [==============================] - 2s 308us/sample - loss: 0.2829 - accuracy: 0.9080\n",
      "Epoch 197/200\n",
      "8057/8057 [==============================] - 2s 306us/sample - loss: 0.2843 - accuracy: 0.9072\n",
      "Epoch 198/200\n",
      "8057/8057 [==============================] - 2s 300us/sample - loss: 0.2833 - accuracy: 0.9065\n",
      "Epoch 199/200\n",
      "8057/8057 [==============================] - 2s 307us/sample - loss: 0.2824 - accuracy: 0.9089\n",
      "Epoch 200/200\n",
      "8057/8057 [==============================] - 3s 310us/sample - loss: 0.2838 - accuracy: 0.9080\n"
     ]
    },
    {
     "data": {
      "text/plain": [
       "<tensorflow.python.keras.callbacks.History at 0x23216bd3988>"
      ]
     },
     "execution_count": 20,
     "metadata": {},
     "output_type": "execute_result"
    }
   ],
   "source": [
    "model.fit(X, y, None, 200)"
   ]
  },
  {
   "cell_type": "code",
   "execution_count": null,
   "metadata": {},
   "outputs": [],
   "source": []
  }
 ],
 "metadata": {
  "kernelspec": {
   "display_name": "Python 3.7.7 64-bit ('tf2': conda)",
   "language": "python",
   "name": "python37764bittf2condaada9f1f8f8664511a8a230abb5354df4"
  },
  "language_info": {
   "codemirror_mode": {
    "name": "ipython",
    "version": 3
   },
   "file_extension": ".py",
   "mimetype": "text/x-python",
   "name": "python",
   "nbconvert_exporter": "python",
   "pygments_lexer": "ipython3",
   "version": "3.7.7"
  }
 },
 "nbformat": 4,
 "nbformat_minor": 4
}
