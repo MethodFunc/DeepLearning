{
 "cells": [
  {
   "cell_type": "code",
   "execution_count": 17,
   "metadata": {},
   "outputs": [],
   "source": [
    "import numpy as np\n",
    "import pandas as pd\n",
    "import tensorflow as tf"
   ]
  },
  {
   "cell_type": "code",
   "execution_count": 2,
   "metadata": {},
   "outputs": [],
   "source": [
    "from tensorflow.keras.models import Sequential\n",
    "from tensorflow.keras.layers import Dense, Flatten\n",
    "from sklearn.model_selection import train_test_split"
   ]
  },
  {
   "cell_type": "code",
   "execution_count": 3,
   "metadata": {},
   "outputs": [],
   "source": [
    "data_set = np.loadtxt('../dataset/ThoraricSurgery.csv', delimiter=',')"
   ]
  },
  {
   "cell_type": "code",
   "execution_count": 4,
   "metadata": {},
   "outputs": [],
   "source": [
    "x_train, x_test, y_train, y_test= train_test_split(\n",
    "    data_set[:, :17], data_set[:, 17], stratify = data_set[:, 17], test_size=0.2, random_state=2020)"
   ]
  },
  {
   "cell_type": "code",
   "execution_count": 5,
   "metadata": {},
   "outputs": [
    {
     "data": {
      "text/plain": [
       "((376, 17), (94, 17))"
      ]
     },
     "execution_count": 5,
     "metadata": {},
     "output_type": "execute_result"
    }
   ],
   "source": [
    "x_train.shape, x_test.shape"
   ]
  },
  {
   "cell_type": "code",
   "execution_count": 6,
   "metadata": {},
   "outputs": [],
   "source": [
    "# x_train, x_valid, y_train, y_valid = train_test_split(x_train_full, y_train_full)"
   ]
  },
  {
   "cell_type": "code",
   "execution_count": 7,
   "metadata": {},
   "outputs": [],
   "source": [
    "# x_train.shape, x_valid.shape"
   ]
  },
  {
   "cell_type": "code",
   "execution_count": 8,
   "metadata": {},
   "outputs": [],
   "source": [
    "model = Sequential([\n",
    "    Dense(30, input_shape=[17, ], activation='relu'),\n",
    "    Dense(1, activation='sigmoid')\n",
    "])"
   ]
  },
  {
   "cell_type": "code",
   "execution_count": 9,
   "metadata": {},
   "outputs": [],
   "source": [
    "model.compile(loss='binary_crossentropy', optimizer='nadam', metrics=['accuracy'])"
   ]
  },
  {
   "cell_type": "code",
   "execution_count": 10,
   "metadata": {
    "scrolled": true
   },
   "outputs": [
    {
     "name": "stdout",
     "output_type": "stream",
     "text": [
      "Train on 300 samples, validate on 76 samples\n",
      "Epoch 1/20\n",
      "300/300 [==============================] - 0s 2ms/sample - loss: 26.0228 - accuracy: 0.1433 - val_loss: 6.5528 - val_accuracy: 0.1842\n",
      "Epoch 2/20\n",
      "300/300 [==============================] - 0s 114us/sample - loss: 1.4057 - accuracy: 0.6533 - val_loss: 0.8014 - val_accuracy: 0.8421\n",
      "Epoch 3/20\n",
      "300/300 [==============================] - 0s 106us/sample - loss: 0.5711 - accuracy: 0.7967 - val_loss: 0.7899 - val_accuracy: 0.8158\n",
      "Epoch 4/20\n",
      "300/300 [==============================] - 0s 107us/sample - loss: 0.5120 - accuracy: 0.8200 - val_loss: 0.8396 - val_accuracy: 0.8289\n",
      "Epoch 5/20\n",
      "300/300 [==============================] - 0s 104us/sample - loss: 0.4895 - accuracy: 0.8433 - val_loss: 0.8807 - val_accuracy: 0.8289\n",
      "Epoch 6/20\n",
      "300/300 [==============================] - 0s 101us/sample - loss: 0.4914 - accuracy: 0.8433 - val_loss: 0.8514 - val_accuracy: 0.7763\n",
      "Epoch 7/20\n",
      "300/300 [==============================] - 0s 105us/sample - loss: 0.4833 - accuracy: 0.8333 - val_loss: 0.8501 - val_accuracy: 0.8289\n",
      "Epoch 8/20\n",
      "300/300 [==============================] - 0s 108us/sample - loss: 0.4798 - accuracy: 0.8500 - val_loss: 0.8293 - val_accuracy: 0.8289\n",
      "Epoch 9/20\n",
      "300/300 [==============================] - 0s 112us/sample - loss: 0.4682 - accuracy: 0.8433 - val_loss: 0.8139 - val_accuracy: 0.8289\n",
      "Epoch 10/20\n",
      "300/300 [==============================] - 0s 111us/sample - loss: 0.4564 - accuracy: 0.8567 - val_loss: 0.8096 - val_accuracy: 0.8289\n",
      "Epoch 11/20\n",
      "300/300 [==============================] - 0s 109us/sample - loss: 0.4517 - accuracy: 0.8600 - val_loss: 0.8113 - val_accuracy: 0.8289\n",
      "Epoch 12/20\n",
      "300/300 [==============================] - 0s 103us/sample - loss: 0.4580 - accuracy: 0.8533 - val_loss: 0.7894 - val_accuracy: 0.8289\n",
      "Epoch 13/20\n",
      "300/300 [==============================] - 0s 106us/sample - loss: 0.4399 - accuracy: 0.8500 - val_loss: 0.8074 - val_accuracy: 0.8026\n",
      "Epoch 14/20\n",
      "300/300 [==============================] - 0s 110us/sample - loss: 0.4513 - accuracy: 0.8500 - val_loss: 0.7672 - val_accuracy: 0.8289\n",
      "Epoch 15/20\n",
      "300/300 [==============================] - 0s 103us/sample - loss: 0.4396 - accuracy: 0.8400 - val_loss: 0.7564 - val_accuracy: 0.8289\n",
      "Epoch 16/20\n",
      "300/300 [==============================] - 0s 112us/sample - loss: 0.4280 - accuracy: 0.8500 - val_loss: 0.7600 - val_accuracy: 0.8289\n",
      "Epoch 17/20\n",
      "300/300 [==============================] - 0s 108us/sample - loss: 0.4181 - accuracy: 0.8567 - val_loss: 0.7627 - val_accuracy: 0.7763\n",
      "Epoch 18/20\n",
      "300/300 [==============================] - 0s 110us/sample - loss: 0.4350 - accuracy: 0.8533 - val_loss: 0.7523 - val_accuracy: 0.8289\n",
      "Epoch 19/20\n",
      "300/300 [==============================] - 0s 111us/sample - loss: 0.4087 - accuracy: 0.8533 - val_loss: 0.7455 - val_accuracy: 0.8289\n",
      "Epoch 20/20\n",
      "300/300 [==============================] - 0s 112us/sample - loss: 0.4202 - accuracy: 0.8600 - val_loss: 0.7335 - val_accuracy: 0.8289\n"
     ]
    }
   ],
   "source": [
    "history = model.fit(x_train, y_train, epochs=20, batch_size=10, validation_split=0.2)"
   ]
  },
  {
   "cell_type": "code",
   "execution_count": 13,
   "metadata": {},
   "outputs": [
    {
     "name": "stdout",
     "output_type": "stream",
     "text": [
      "94/94 - 0s - loss: 0.4777 - accuracy: 0.8511\n"
     ]
    },
    {
     "data": {
      "text/plain": [
       "0.85106385"
      ]
     },
     "execution_count": 13,
     "metadata": {},
     "output_type": "execute_result"
    }
   ],
   "source": [
    "model.evaluate(x_test, y_test, verbose=2)[1]"
   ]
  },
  {
   "cell_type": "code",
   "execution_count": 15,
   "metadata": {
    "scrolled": true
   },
   "outputs": [
    {
     "data": {
      "text/plain": [
       "[26.0227801322937,\n",
       " 1.4057067779358476,\n",
       " 0.5711086029807727,\n",
       " 0.5120346009731293,\n",
       " 0.48951323156555493,\n",
       " 0.4913627746204535,\n",
       " 0.4832654704650243,\n",
       " 0.47978056346376735,\n",
       " 0.46818094203869504,\n",
       " 0.456364177664121,\n",
       " 0.451682602117459,\n",
       " 0.45797193236649036,\n",
       " 0.4398565753052632,\n",
       " 0.4513128221035004,\n",
       " 0.43962310428420703,\n",
       " 0.4280283366640409,\n",
       " 0.4181310882170995,\n",
       " 0.4349713191390038,\n",
       " 0.40870342329144477,\n",
       " 0.42024537101387976]"
      ]
     },
     "execution_count": 15,
     "metadata": {},
     "output_type": "execute_result"
    }
   ],
   "source": [
    "history.history['loss']\n",
    "history.history['accuracy']\n",
    "history.history['val_loss']\n",
    "history.history['val_accuracy']"
   ]
  },
  {
   "cell_type": "code",
   "execution_count": 23,
   "metadata": {},
   "outputs": [],
   "source": [
    "df = pd.DataFrame(history.history)"
   ]
  },
  {
   "cell_type": "code",
   "execution_count": 24,
   "metadata": {},
   "outputs": [
    {
     "data": {
      "text/html": [
       "<div>\n",
       "<style scoped>\n",
       "    .dataframe tbody tr th:only-of-type {\n",
       "        vertical-align: middle;\n",
       "    }\n",
       "\n",
       "    .dataframe tbody tr th {\n",
       "        vertical-align: top;\n",
       "    }\n",
       "\n",
       "    .dataframe thead th {\n",
       "        text-align: right;\n",
       "    }\n",
       "</style>\n",
       "<table border=\"1\" class=\"dataframe\">\n",
       "  <thead>\n",
       "    <tr style=\"text-align: right;\">\n",
       "      <th></th>\n",
       "      <th>loss</th>\n",
       "      <th>accuracy</th>\n",
       "      <th>val_loss</th>\n",
       "      <th>val_accuracy</th>\n",
       "    </tr>\n",
       "  </thead>\n",
       "  <tbody>\n",
       "    <tr>\n",
       "      <th>0</th>\n",
       "      <td>26.022780</td>\n",
       "      <td>0.143333</td>\n",
       "      <td>6.552766</td>\n",
       "      <td>0.184211</td>\n",
       "    </tr>\n",
       "    <tr>\n",
       "      <th>1</th>\n",
       "      <td>1.405707</td>\n",
       "      <td>0.653333</td>\n",
       "      <td>0.801420</td>\n",
       "      <td>0.842105</td>\n",
       "    </tr>\n",
       "    <tr>\n",
       "      <th>2</th>\n",
       "      <td>0.571109</td>\n",
       "      <td>0.796667</td>\n",
       "      <td>0.789909</td>\n",
       "      <td>0.815789</td>\n",
       "    </tr>\n",
       "    <tr>\n",
       "      <th>3</th>\n",
       "      <td>0.512035</td>\n",
       "      <td>0.820000</td>\n",
       "      <td>0.839633</td>\n",
       "      <td>0.828947</td>\n",
       "    </tr>\n",
       "    <tr>\n",
       "      <th>4</th>\n",
       "      <td>0.489513</td>\n",
       "      <td>0.843333</td>\n",
       "      <td>0.880749</td>\n",
       "      <td>0.828947</td>\n",
       "    </tr>\n",
       "    <tr>\n",
       "      <th>5</th>\n",
       "      <td>0.491363</td>\n",
       "      <td>0.843333</td>\n",
       "      <td>0.851399</td>\n",
       "      <td>0.776316</td>\n",
       "    </tr>\n",
       "    <tr>\n",
       "      <th>6</th>\n",
       "      <td>0.483265</td>\n",
       "      <td>0.833333</td>\n",
       "      <td>0.850086</td>\n",
       "      <td>0.828947</td>\n",
       "    </tr>\n",
       "    <tr>\n",
       "      <th>7</th>\n",
       "      <td>0.479781</td>\n",
       "      <td>0.850000</td>\n",
       "      <td>0.829316</td>\n",
       "      <td>0.828947</td>\n",
       "    </tr>\n",
       "    <tr>\n",
       "      <th>8</th>\n",
       "      <td>0.468181</td>\n",
       "      <td>0.843333</td>\n",
       "      <td>0.813873</td>\n",
       "      <td>0.828947</td>\n",
       "    </tr>\n",
       "    <tr>\n",
       "      <th>9</th>\n",
       "      <td>0.456364</td>\n",
       "      <td>0.856667</td>\n",
       "      <td>0.809596</td>\n",
       "      <td>0.828947</td>\n",
       "    </tr>\n",
       "    <tr>\n",
       "      <th>10</th>\n",
       "      <td>0.451683</td>\n",
       "      <td>0.860000</td>\n",
       "      <td>0.811292</td>\n",
       "      <td>0.828947</td>\n",
       "    </tr>\n",
       "    <tr>\n",
       "      <th>11</th>\n",
       "      <td>0.457972</td>\n",
       "      <td>0.853333</td>\n",
       "      <td>0.789438</td>\n",
       "      <td>0.828947</td>\n",
       "    </tr>\n",
       "    <tr>\n",
       "      <th>12</th>\n",
       "      <td>0.439857</td>\n",
       "      <td>0.850000</td>\n",
       "      <td>0.807378</td>\n",
       "      <td>0.802632</td>\n",
       "    </tr>\n",
       "    <tr>\n",
       "      <th>13</th>\n",
       "      <td>0.451313</td>\n",
       "      <td>0.850000</td>\n",
       "      <td>0.767187</td>\n",
       "      <td>0.828947</td>\n",
       "    </tr>\n",
       "    <tr>\n",
       "      <th>14</th>\n",
       "      <td>0.439623</td>\n",
       "      <td>0.840000</td>\n",
       "      <td>0.756393</td>\n",
       "      <td>0.828947</td>\n",
       "    </tr>\n",
       "    <tr>\n",
       "      <th>15</th>\n",
       "      <td>0.428028</td>\n",
       "      <td>0.850000</td>\n",
       "      <td>0.759999</td>\n",
       "      <td>0.828947</td>\n",
       "    </tr>\n",
       "    <tr>\n",
       "      <th>16</th>\n",
       "      <td>0.418131</td>\n",
       "      <td>0.856667</td>\n",
       "      <td>0.762740</td>\n",
       "      <td>0.776316</td>\n",
       "    </tr>\n",
       "    <tr>\n",
       "      <th>17</th>\n",
       "      <td>0.434971</td>\n",
       "      <td>0.853333</td>\n",
       "      <td>0.752319</td>\n",
       "      <td>0.828947</td>\n",
       "    </tr>\n",
       "    <tr>\n",
       "      <th>18</th>\n",
       "      <td>0.408703</td>\n",
       "      <td>0.853333</td>\n",
       "      <td>0.745454</td>\n",
       "      <td>0.828947</td>\n",
       "    </tr>\n",
       "    <tr>\n",
       "      <th>19</th>\n",
       "      <td>0.420245</td>\n",
       "      <td>0.860000</td>\n",
       "      <td>0.733531</td>\n",
       "      <td>0.828947</td>\n",
       "    </tr>\n",
       "  </tbody>\n",
       "</table>\n",
       "</div>"
      ],
      "text/plain": [
       "         loss  accuracy  val_loss  val_accuracy\n",
       "0   26.022780  0.143333  6.552766      0.184211\n",
       "1    1.405707  0.653333  0.801420      0.842105\n",
       "2    0.571109  0.796667  0.789909      0.815789\n",
       "3    0.512035  0.820000  0.839633      0.828947\n",
       "4    0.489513  0.843333  0.880749      0.828947\n",
       "5    0.491363  0.843333  0.851399      0.776316\n",
       "6    0.483265  0.833333  0.850086      0.828947\n",
       "7    0.479781  0.850000  0.829316      0.828947\n",
       "8    0.468181  0.843333  0.813873      0.828947\n",
       "9    0.456364  0.856667  0.809596      0.828947\n",
       "10   0.451683  0.860000  0.811292      0.828947\n",
       "11   0.457972  0.853333  0.789438      0.828947\n",
       "12   0.439857  0.850000  0.807378      0.802632\n",
       "13   0.451313  0.850000  0.767187      0.828947\n",
       "14   0.439623  0.840000  0.756393      0.828947\n",
       "15   0.428028  0.850000  0.759999      0.828947\n",
       "16   0.418131  0.856667  0.762740      0.776316\n",
       "17   0.434971  0.853333  0.752319      0.828947\n",
       "18   0.408703  0.853333  0.745454      0.828947\n",
       "19   0.420245  0.860000  0.733531      0.828947"
      ]
     },
     "execution_count": 24,
     "metadata": {},
     "output_type": "execute_result"
    }
   ],
   "source": [
    "df"
   ]
  },
  {
   "cell_type": "code",
   "execution_count": null,
   "metadata": {},
   "outputs": [],
   "source": []
  }
 ],
 "metadata": {
  "kernelspec": {
   "display_name": "Python 3",
   "language": "python",
   "name": "python3"
  },
  "language_info": {
   "codemirror_mode": {
    "name": "ipython",
    "version": 3
   },
   "file_extension": ".py",
   "mimetype": "text/x-python",
   "name": "python",
   "nbconvert_exporter": "python",
   "pygments_lexer": "ipython3",
   "version": "3.7.7"
  }
 },
 "nbformat": 4,
 "nbformat_minor": 4
}
